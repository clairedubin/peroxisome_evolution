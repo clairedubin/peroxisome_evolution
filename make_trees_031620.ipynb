{
 "cells": [
  {
   "cell_type": "code",
   "execution_count": 1,
   "metadata": {},
   "outputs": [],
   "source": [
    "import dendropy\n",
    "from dendropy import Tree, TaxonNamespace\n",
    "import pyfasta\n",
    "from pyfasta import Fasta\n",
    "import re\n",
    "import os\n",
    "from os import path\n",
    "import shutil"
   ]
  },
  {
   "cell_type": "code",
   "execution_count": 20,
   "metadata": {},
   "outputs": [
    {
     "name": "stdout",
     "output_type": "stream",
     "text": [
      "155 4782\n"
     ]
    }
   ],
   "source": [
    "#remove any alignments that don't start with ATG\n",
    "\n",
    "alignment_dir = '/Users/clairedubin/spur/small_ortho_aligned_031420/'\n",
    "\n",
    "\n",
    "count = 0\n",
    "total = 0\n",
    "\n",
    "bad = []\n",
    "\n",
    "for file in os.listdir(alignment_dir):    \n",
    "    \n",
    "    if file[-2:] == 'fa':\n",
    "\n",
    "        total += 1\n",
    "\n",
    "        f=Fasta(alignment_dir+file)\n",
    "\n",
    "        sample = list(f.keys())[0]\n",
    "\n",
    "        if len(f[sample][:]) % 3 != 0:\n",
    "\n",
    "            \n",
    "            for key in f.keys():\n",
    "                \n",
    "                for codon in range(0, len(sample), 3):\n",
    "                    \n",
    "                    if '-' not in f[key][codon:codon+3]:\n",
    "                        \n",
    "                        if f[key][codon:codon+3] != 'ATG':\n",
    "                            \n",
    "\n",
    "                            \n",
    "                            bad += [file]\n",
    "\n",
    "                            \n",
    "                        break\n",
    "                                                  \n",
    "        \n",
    "print(len(set(bad)), total)\n",
    "\n",
    "for file in bad:\n",
    "    if os.path.exists(alignment_dir+file):\n",
    "        os.remove(alignment_dir+file)\n",
    "    "
   ]
  },
  {
   "cell_type": "code",
   "execution_count": 39,
   "metadata": {},
   "outputs": [
    {
     "name": "stdout",
     "output_type": "stream",
     "text": [
      "3498 4627\n"
     ]
    }
   ],
   "source": [
    "#use files with at least 10 strains\n",
    "\n",
    "good_files = []\n",
    "\n",
    "count = 0\n",
    "total = 0\n",
    "for file in os.listdir(alignment_dir):\n",
    "    \n",
    "    if file[-2:] == 'fa':\n",
    "        total +=1\n",
    "        f = Fasta(alignment_dir+file)\n",
    "\n",
    "        if len(f.keys()) >= 10:\n",
    "\n",
    "            count+=1 \n",
    "            \n",
    "            good_files += [file]\n",
    "\n",
    "print(count, total)"
   ]
  },
  {
   "cell_type": "code",
   "execution_count": 40,
   "metadata": {},
   "outputs": [],
   "source": [
    "#make all files have sequence length % 3 = 0 (PAML won't run otherwise)\n",
    "\n",
    "for file in good_files:\n",
    "        \n",
    "    if file[-2:] == 'fa':\n",
    "\n",
    "        f=Fasta(alignment_dir+file)\n",
    "\n",
    "        sample = list(f.keys())[0]\n",
    "\n",
    "        i = len(f[sample][:]) % 3\n",
    "\n",
    "        if i != 0:\n",
    "            \n",
    "            to_write = ''\n",
    "\n",
    "            for key in f.keys():\n",
    "                \n",
    "                to_write += '>' + key + '\\n' + f[key][:-i] + '\\n'\n",
    "\n",
    "            p = open('/Users/clairedubin/spur/temp/'+file, 'w')\n",
    "            p.write(to_write)\n",
    "            p.close()\n",
    "            \n",
    "for file in os.listdir('/Users/clairedubin/spur/temp/'):\n",
    "\n",
    "    shutil.copy('/Users/clairedubin/spur/temp/'+file, alignment_dir + file)"
   ]
  },
  {
   "cell_type": "code",
   "execution_count": 2,
   "metadata": {},
   "outputs": [],
   "source": [
    "def make_tree(file, master_path, output_path):\n",
    "    \n",
    "    gene = file.split('.')[0]\n",
    "    \n",
    "    f = Fasta(file)\n",
    "    \n",
    "    keys_to_keep = [f.replace('_', ' ') for f in list(f.keys())]\n",
    "        \n",
    "    master = Tree.get(file=open(master_path, 'r'),\n",
    "                schema=\"newick\",\n",
    "                tree_offset=0)\n",
    "        \n",
    "    master.retain_taxa_with_labels(keys_to_keep)\n",
    "    \n",
    "    master_string = master.as_string(schema='newick')\n",
    "    \n",
    "    master_string = re.sub(r'\\:[\\d.]+', '', master_string)\n",
    "        \n",
    "    species_count = len(master_string.split(','))\n",
    "                     \n",
    "    master_string = str(species_count) + ' 1\\n' + master_string\n",
    "    \n",
    "    newfile = open(output_path, 'w')\n",
    "    \n",
    "    newfile.write(master_string)\n",
    "    \n",
    "    newfile.close()\n",
    "    \n",
    "    return master_string\n"
   ]
  },
  {
   "cell_type": "code",
   "execution_count": 34,
   "metadata": {},
   "outputs": [],
   "source": [
    "def make_tree_promoters(file, master_path, output_path):\n",
    "    \n",
    "    gene = file.split('.')[0]\n",
    "    \n",
    "    f = Fasta(file)\n",
    "    \n",
    "    keys_to_keep = [f.split('_', 1)[1].capitalize().replace('_', ' ') for f in list(f.keys())]\n",
    "        \n",
    "    master = Tree.get(file=open(master_path, 'r'),\n",
    "                schema=\"newick\",\n",
    "                tree_offset=0)\n",
    "        \n",
    "    master.retain_taxa_with_labels(keys_to_keep)\n",
    "    \n",
    "    master_string = master.as_string(schema='newick')\n",
    "    \n",
    "    master_string = re.sub(r'\\:[\\d.]+', '', master_string)\n",
    "        \n",
    "    species_count = len(master_string.split(','))\n",
    "                     \n",
    "    master_string = str(species_count) + ' 1\\n' + master_string\n",
    "    \n",
    "    newfile = open(output_path, 'w')\n",
    "    \n",
    "    newfile.write(master_string)\n",
    "    \n",
    "    newfile.close()\n",
    "    \n",
    "    return master_string"
   ]
  },
  {
   "cell_type": "code",
   "execution_count": 35,
   "metadata": {
    "code_folding": []
   },
   "outputs": [],
   "source": [
    "go5778 = ['YPL112C',\n",
    " 'YHR150W',\n",
    " 'YPR165W',\n",
    " 'YGR028W',\n",
    " 'YNL214W',\n",
    " 'YPR128C',\n",
    " 'YML075C',\n",
    " 'YGR004W',\n",
    " 'YGR239C',\n",
    " 'YLR324W',\n",
    " 'YGL153W',\n",
    " 'YHR160C',\n",
    " 'YMR163C',\n",
    " 'YDR265W',\n",
    " 'YLR450W',\n",
    " 'YDR244W',\n",
    " 'YMR026C',\n",
    " 'YKL188C',\n",
    " 'YDR329C',\n",
    " 'YLR191W',\n",
    " 'YDR479C',\n",
    " 'YOL147C',\n",
    " 'YOR193W',\n",
    " 'YBR168W',\n",
    " 'YPL147W',\n",
    " 'YBR222C',\n",
    " 'YNL329C',\n",
    " 'YDL065C',\n",
    " 'YOL044W',\n",
    " 'YAL055W',\n",
    "'YJL210W',\n",
    "'YKL197C',\n",
    "'YMR018W']"
   ]
  },
  {
   "cell_type": "code",
   "execution_count": 36,
   "metadata": {},
   "outputs": [
    {
     "data": {
      "text/plain": [
       "33"
      ]
     },
     "execution_count": 36,
     "metadata": {},
     "output_type": "execute_result"
    }
   ],
   "source": [
    "len(go5778)"
   ]
  },
  {
   "cell_type": "code",
   "execution_count": null,
   "metadata": {},
   "outputs": [],
   "source": []
  },
  {
   "cell_type": "code",
   "execution_count": 37,
   "metadata": {},
   "outputs": [],
   "source": [
    "#make one tree per gene (promoters)\n",
    "\n",
    "master_path = \"/Users/clairedubin/Downloads/pruned_sacc_tree.txt\"\n",
    "\n",
    "alignment_dir = '/Users/clairedubin/spur/peroxisomes/PAML_for_reviewers_031820/sacc_larger_phylogeny/promoters_aligned/'\n",
    "\n",
    "for file in os.listdir(alignment_dir):\n",
    "    \n",
    "    output_path = '/Users/clairedubin/spur/peroxisomes/PAML_for_reviewers_031820/sacc_larger_phylogeny/promoter_trees/' + file.split('.')[0] + '.tree'\n",
    "    \n",
    "    make_tree_promoters(alignment_dir+file, master_path, output_path)"
   ]
  },
  {
   "cell_type": "code",
   "execution_count": 45,
   "metadata": {},
   "outputs": [],
   "source": [
    "#make one tree per gene\n",
    "\n",
    "master_path = \"/Users/clairedubin/Downloads/pruned_sacc_tree.txt\"\n",
    "\n",
    "for file in good_files:\n",
    "    \n",
    "    output_path = '/Users/clairedubin/spur/genome_trees_031620/' + file.split('.')[0] + '.tree'\n",
    "    \n",
    "    make_tree(alignment_dir+file, master_path, output_path)"
   ]
  },
  {
   "cell_type": "code",
   "execution_count": 48,
   "metadata": {},
   "outputs": [
    {
     "data": {
      "text/plain": [
       "2543"
      ]
     },
     "execution_count": 48,
     "metadata": {},
     "output_type": "execute_result"
    }
   ],
   "source": [
    "len(set(bad))"
   ]
  },
  {
   "cell_type": "code",
   "execution_count": 57,
   "metadata": {},
   "outputs": [
    {
     "name": "stdout",
     "output_type": "stream",
     "text": [
      "YPL112C 13\n",
      "YHR150W 13\n",
      "YPR165W 13\n",
      "YGR028W 13\n",
      "YPR128C 12\n",
      "Nakaseomyces_castellii\n",
      "YML075C 13\n",
      "YGR004W 13\n",
      "YGR239C 11\n",
      "Nakaseomyces_castellii\n",
      "Nakaseomyces_bacillisporus\n",
      "YLR324W no\n",
      "YGL153W 10\n",
      "Saccharomyces_uvarum\n",
      "Saccharomyces_arboricola\n",
      "Saccharomyces_mikatae\n",
      "YMR163C 10\n",
      "Saccharomyces_uvarum\n",
      "Saccharomyces_arboricola\n",
      "Saccharomyces_mikatae\n",
      "YDR265W 12\n",
      "Nakaseomyces_castellii\n",
      "YLR450W no\n",
      "YDR244W 13\n",
      "YMR026C 13\n",
      "YKL188C 13\n",
      "YLR191W 13\n",
      "YDR479C 13\n",
      "YBR168W 13\n",
      "YPL147W 13\n",
      "YBR222C 13\n",
      "YNL329C 10\n",
      "Saccharomyces_uvarum\n",
      "Saccharomyces_arboricola\n",
      "Saccharomyces_paradoxus\n",
      "YDL065C 13\n",
      "YOL044W 10\n",
      "Nakaseomyces_castellii\n",
      "Nakaseomyces_bacillisporus\n",
      "Saccharomyces_paradoxus\n"
     ]
    }
   ],
   "source": [
    "all_keys = list(Fasta('/Users/clairedubin/spur/small_ortho_aligned_031420/YPL112C.muscle_afa').keys())\n",
    "count = 0\n",
    "\n",
    "for gene in go5778:\n",
    "    if os.path.exists('/Users/clairedubin/spur/small_ortho_aligned_031420/' + gene + '.muscle_afa'):\n",
    "        f = Fasta('/Users/clairedubin/spur/small_ortho_aligned_031420/' + gene + '.muscle_afa')\n",
    "        \n",
    "        \n",
    "                \n",
    "        if len(f.keys()) >= 10:\n",
    "            count+=1\n",
    "\n",
    "            print(gene, len(f.keys()))\n",
    "\n",
    "            for key in all_keys:\n",
    "\n",
    "                if key not in list(f.keys()):\n",
    "\n",
    "                    print(key)\n",
    "    else:\n",
    "        print(gene, 'no')"
   ]
  }
 ],
 "metadata": {
  "kernelspec": {
   "display_name": "Python 3",
   "language": "python",
   "name": "python3"
  },
  "language_info": {
   "codemirror_mode": {
    "name": "ipython",
    "version": 3
   },
   "file_extension": ".py",
   "mimetype": "text/x-python",
   "name": "python",
   "nbconvert_exporter": "python",
   "pygments_lexer": "ipython3",
   "version": "3.6.5"
  }
 },
 "nbformat": 4,
 "nbformat_minor": 2
}
