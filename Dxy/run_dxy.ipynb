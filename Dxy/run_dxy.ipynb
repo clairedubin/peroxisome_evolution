{
 "cells": [
  {
   "cell_type": "markdown",
   "metadata": {},
   "source": [
    "Code adapted from Jeremy Roop"
   ]
  },
  {
   "cell_type": "code",
   "execution_count": 1,
   "metadata": {
    "code_folding": []
   },
   "outputs": [],
   "source": [
    "#imports\n",
    "from pyfasta import Fasta\n",
    "import os\n",
    "import pandas as pd\n",
    "import numpy as np"
   ]
  },
  {
   "cell_type": "code",
   "execution_count": 2,
   "metadata": {
    "code_folding": []
   },
   "outputs": [],
   "source": [
    "#dxy function for one gene\n",
    "good_nucs = ['A', 'T', 'C', 'G', 'a', 't', 'c', 'g']\n",
    "\n",
    "def dxy(gene_file_name, main):\n",
    "    spar_seqs, scer_seqs = [], []\n",
    "    dxy = 0\n",
    "    spar_strain_count, scer_strain_count = 0, 0\n",
    "   \n",
    "    try:\n",
    "        f = Fasta(main +gene_file_name)\n",
    "        keys = f.keys()\n",
    "\n",
    "        for key in f:\n",
    "            \n",
    "            if (key[0:4] == 'Spar' and 'N-44' in key) or (key[0:4] == 'Spar' and 'YPS138' in key):\n",
    "                #these arent in the European population\n",
    "                continue\n",
    "            \n",
    "            gaps = f[key][:].count('-') + f[key][:].count('N') + f[key][:].count('n')\n",
    "            \n",
    "            if gaps/len(f[key][:]) >= 0.05:\n",
    "                continue\n",
    "            \n",
    "\n",
    "            if key[0:4] == 'Spar':\n",
    "                \n",
    "                spar_strain_count += 1\n",
    "                spar_seqs += [f[key][:]]\n",
    "\n",
    "            elif key[0:4] == 'Scer':\n",
    "                scer_strain_count += 1\n",
    "                scer_seqs += [f[key][:]]\n",
    "\n",
    "                \n",
    "        if spar_strain_count < 8 or scer_strain_count < 10:\n",
    "            return\n",
    "                \n",
    "        for spar_seq in spar_seqs:\n",
    "            for scer_seq in scer_seqs:\n",
    "                for i in range(len(spar_seq)):\n",
    "                    if scer_seq[i] != spar_seq[i] and scer_seq[i] in good_nucs and spar_seq[i] in good_nucs:\n",
    "                        dxy += 1\n",
    "\n",
    "        dxy = dxy/(spar_strain_count * scer_strain_count)\n",
    "        return dxy/len(spar_seqs[0])\n",
    "    \n",
    "    except:\n",
    "        return 'NaN'\n"
   ]
  },
  {
   "cell_type": "code",
   "execution_count": 3,
   "metadata": {},
   "outputs": [],
   "source": [
    "# #run dxy on directory\n",
    "\n",
    "directory = '/Users/clairedubin/spur/publishable_data/alignments/scer_spar_MUSCLE_alignments/'\n",
    "\n",
    "all_files = os.listdir(directory)\n",
    "\n",
    "for file in all_files:\n",
    "    if file[-4:] == 'flat' or file[-3:] == 'gdx':\n",
    "        os.remove(directory + file)\n",
    "\n",
    "all_files = os.listdir(directory)\n",
    "        \n",
    "dxy_dict = {}\n",
    "for file in all_files:\n",
    "    dxy_dict[file] = dxy(file)\n",
    "    print(file, dxy_dict[file])\n",
    "    \n",
    "    \n",
    "    \n",
    "for i in dxy_dict:\n",
    "    dxy_dict[i] = [dxy_dict[i]]\n",
    "\n",
    "df = pd.DataFrame.from_dict(dxy_dict, orient='index')\n",
    "df = df.rename(columns={0:'dxy'})\n",
    "df = df[~df['dxy'].isnull()]\n",
    "df.sort_values('dxy', ascending=False)\n",
    "\n",
    "df.to_csv('/Users/clairedubin/spur/publishable_data/raw_data/dxy_raw_091719_more_filters.csv')\n",
    "\n",
    "df = pd.read_csv('/Users/clairedubin/spur/publishable_data/raw_data/dxy_raw_091719_more_filters.csv')\n",
    "df = df.sort_values('dxy', ascending=False).set_index('Unnamed: 0')\n",
    "new_index = [i[2] for i in df.index.str.split('_')]\n",
    "df.index = new_index\n",
    "df.to_csv('/Users/clairedubin/spur/publishable_data/raw_data/dxy_raw_091719_more_filters.csv')\n"
   ]
  },
  {
   "cell_type": "code",
   "execution_count": 4,
   "metadata": {},
   "outputs": [],
   "source": [
    "dxy_all = pd.read_csv('/Users/clairedubin/spur/publishable_data/raw_data/dxy_raw_091719_more_filters.csv')\n",
    "all_dxy_genes = dxy_all['Unnamed: 0']"
   ]
  },
  {
   "cell_type": "code",
   "execution_count": null,
   "metadata": {},
   "outputs": [],
   "source": [
    "#drop anything not used in go term analysis\n",
    "\n",
    "#load go term data as go_terms, remove 3 broad go terms\n",
    "#source: http://geneontology.org/docs/download-go-annotations/\n",
    "\n",
    "go_terms = pd.read_csv('/Users/clairedubin/spur/publishable_data/external_datasets/go_terms.csv', header=None)\n",
    "go_terms = go_terms.drop(columns=[0, 1,3,5,6,7,8,11,12,13,14,15])\n",
    "go_terms = go_terms.rename(columns={2: 'sgd_name', 4:'go_term', 9:'gene_desc', 10:'gene'})\n",
    "go_terms['gene'] = [i[0] for i in go_terms['gene'].str.split('|')]\n",
    "go_terms = go_terms.drop_duplicates()\n",
    "go_terms = go_terms[~go_terms['go_term'].isin(['GO:0005575', 'GO:0008150', 'GO:0003674'])]\n",
    "go_terms = go_terms.set_index('gene')\n",
    "go_terms.head()"
   ]
  },
  {
   "cell_type": "code",
   "execution_count": null,
   "metadata": {},
   "outputs": [],
   "source": [
    "dxy_all = dxy_all[dxy_all['Unnamed: 0'].isin(go_terms.index)]\n",
    "dxy_all"
   ]
  }
 ],
 "metadata": {
  "kernelspec": {
   "display_name": "Python 3",
   "language": "python",
   "name": "python3"
  },
  "language_info": {
   "codemirror_mode": {
    "name": "ipython",
    "version": 3
   },
   "file_extension": ".py",
   "mimetype": "text/x-python",
   "name": "python",
   "nbconvert_exporter": "python",
   "pygments_lexer": "ipython3",
   "version": "3.6.5"
  }
 },
 "nbformat": 4,
 "nbformat_minor": 2
}
