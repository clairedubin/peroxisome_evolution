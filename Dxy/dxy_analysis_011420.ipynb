{
 "cells": [
  {
   "cell_type": "code",
   "execution_count": 1,
   "metadata": {},
   "outputs": [],
   "source": [
    "import pandas as pd\n",
    "import numpy as np\n",
    "import ast\n",
    "import random\n",
    "import os"
   ]
  },
  {
   "cell_type": "code",
   "execution_count": 2,
   "metadata": {},
   "outputs": [
    {
     "data": {
      "text/html": [
       "<div>\n",
       "<style scoped>\n",
       "    .dataframe tbody tr th:only-of-type {\n",
       "        vertical-align: middle;\n",
       "    }\n",
       "\n",
       "    .dataframe tbody tr th {\n",
       "        vertical-align: top;\n",
       "    }\n",
       "\n",
       "    .dataframe thead th {\n",
       "        text-align: right;\n",
       "    }\n",
       "</style>\n",
       "<table border=\"1\" class=\"dataframe\">\n",
       "  <thead>\n",
       "    <tr style=\"text-align: right;\">\n",
       "      <th></th>\n",
       "      <th>sgd_name</th>\n",
       "      <th>go_term</th>\n",
       "      <th>gene_desc</th>\n",
       "    </tr>\n",
       "    <tr>\n",
       "      <th>gene</th>\n",
       "      <th></th>\n",
       "      <th></th>\n",
       "      <th></th>\n",
       "    </tr>\n",
       "  </thead>\n",
       "  <tbody>\n",
       "    <tr>\n",
       "      <th>YDL159W</th>\n",
       "      <td>STE7</td>\n",
       "      <td>GO:0000187</td>\n",
       "      <td>Signal transducing MAP kinase kinase</td>\n",
       "    </tr>\n",
       "    <tr>\n",
       "      <th>YJL128C</th>\n",
       "      <td>PBS2</td>\n",
       "      <td>GO:0000187</td>\n",
       "      <td>MAP kinase kinase of the HOG signaling pathway</td>\n",
       "    </tr>\n",
       "    <tr>\n",
       "      <th>YOL144W</th>\n",
       "      <td>NOP8</td>\n",
       "      <td>GO:0003723</td>\n",
       "      <td>Nucleolar protein required for 60S ribosomal s...</td>\n",
       "    </tr>\n",
       "    <tr>\n",
       "      <th>YIL095W</th>\n",
       "      <td>PRK1</td>\n",
       "      <td>GO:0120133</td>\n",
       "      <td>Ser/Thr protein kinase</td>\n",
       "    </tr>\n",
       "    <tr>\n",
       "      <th>YER038W-A</th>\n",
       "      <td>FMP49</td>\n",
       "      <td>GO:0005739</td>\n",
       "      <td>Mitochondrial protein of unknown function</td>\n",
       "    </tr>\n",
       "  </tbody>\n",
       "</table>\n",
       "</div>"
      ],
      "text/plain": [
       "          sgd_name     go_term  \\\n",
       "gene                             \n",
       "YDL159W       STE7  GO:0000187   \n",
       "YJL128C       PBS2  GO:0000187   \n",
       "YOL144W       NOP8  GO:0003723   \n",
       "YIL095W       PRK1  GO:0120133   \n",
       "YER038W-A    FMP49  GO:0005739   \n",
       "\n",
       "                                                   gene_desc  \n",
       "gene                                                          \n",
       "YDL159W                 Signal transducing MAP kinase kinase  \n",
       "YJL128C       MAP kinase kinase of the HOG signaling pathway  \n",
       "YOL144W    Nucleolar protein required for 60S ribosomal s...  \n",
       "YIL095W                               Ser/Thr protein kinase  \n",
       "YER038W-A          Mitochondrial protein of unknown function  "
      ]
     },
     "execution_count": 2,
     "metadata": {},
     "output_type": "execute_result"
    }
   ],
   "source": [
    "#load go term data as go_terms, remove 3 broad go terms\n",
    "#source: http://geneontology.org/docs/download-go-annotations/\n",
    "\n",
    "go_terms = pd.read_csv('/Users/clairedubin/spur/publishable_data/external_datasets/go_terms.csv', header=None)\n",
    "go_terms = go_terms.drop(columns=[0, 1,3,5,6,7,8,11,12,13,14,15])\n",
    "go_terms = go_terms.rename(columns={2: 'sgd_name', 4:'go_term', 9:'gene_desc', 10:'gene'})\n",
    "go_terms['gene'] = [i[0] for i in go_terms['gene'].str.split('|')]\n",
    "go_terms = go_terms.drop_duplicates()\n",
    "go_terms = go_terms[~go_terms['go_term'].isin(['GO:0005575', 'GO:0008150', 'GO:0003674'])]\n",
    "go_terms = go_terms.set_index('gene')\n",
    "go_terms.head()"
   ]
  },
  {
   "cell_type": "code",
   "execution_count": 3,
   "metadata": {},
   "outputs": [],
   "source": [
    "#load list of essential genes as essential_genes\n",
    "#source: http://www-sequence.stanford.edu/group/yeast_deletion_project/Essential_ORFs.txt\n",
    "\n",
    "essential = pd.read_csv('/Users/clairedubin/spur/publishable_data/external_datasets/essential.csv', header=None)\n",
    "essential[1] = essential[1].str.strip('\\t')\n",
    "essential_genes = essential[1].str.strip(' ').tolist()"
   ]
  },
  {
   "cell_type": "code",
   "execution_count": 18,
   "metadata": {},
   "outputs": [
    {
     "data": {
      "text/html": [
       "<div>\n",
       "<style scoped>\n",
       "    .dataframe tbody tr th:only-of-type {\n",
       "        vertical-align: middle;\n",
       "    }\n",
       "\n",
       "    .dataframe tbody tr th {\n",
       "        vertical-align: top;\n",
       "    }\n",
       "\n",
       "    .dataframe thead th {\n",
       "        text-align: right;\n",
       "    }\n",
       "</style>\n",
       "<table border=\"1\" class=\"dataframe\">\n",
       "  <thead>\n",
       "    <tr style=\"text-align: right;\">\n",
       "      <th></th>\n",
       "      <th>dxy</th>\n",
       "      <th>gene</th>\n",
       "    </tr>\n",
       "  </thead>\n",
       "  <tbody>\n",
       "    <tr>\n",
       "      <th>0</th>\n",
       "      <td>0.143707</td>\n",
       "      <td>YNL302C</td>\n",
       "    </tr>\n",
       "    <tr>\n",
       "      <th>1</th>\n",
       "      <td>0.134195</td>\n",
       "      <td>YBR070C</td>\n",
       "    </tr>\n",
       "    <tr>\n",
       "      <th>2</th>\n",
       "      <td>0.083513</td>\n",
       "      <td>YIL093C</td>\n",
       "    </tr>\n",
       "    <tr>\n",
       "      <th>3</th>\n",
       "      <td>0.146755</td>\n",
       "      <td>YKR078W</td>\n",
       "    </tr>\n",
       "    <tr>\n",
       "      <th>4</th>\n",
       "      <td>0.126110</td>\n",
       "      <td>YKR086W</td>\n",
       "    </tr>\n",
       "  </tbody>\n",
       "</table>\n",
       "</div>"
      ],
      "text/plain": [
       "        dxy     gene\n",
       "0  0.143707  YNL302C\n",
       "1  0.134195  YBR070C\n",
       "2  0.083513  YIL093C\n",
       "3  0.146755  YKR078W\n",
       "4  0.126110  YKR086W"
      ]
     },
     "execution_count": 18,
     "metadata": {},
     "output_type": "execute_result"
    }
   ],
   "source": [
    "df = pd.read_csv('/Users/clairedubin/spur/publishable_data/raw_data/dxy_SpC_vineyard_011420.csv')\n",
    "df['gene'] = df['Unnamed: 0'].str.split('_', expand=True)[2]\n",
    "df=df.drop(columns=['Unnamed: 0'])\n",
    "df.head()"
   ]
  },
  {
   "cell_type": "code",
   "execution_count": 19,
   "metadata": {},
   "outputs": [
    {
     "data": {
      "text/html": [
       "<div>\n",
       "<style scoped>\n",
       "    .dataframe tbody tr th:only-of-type {\n",
       "        vertical-align: middle;\n",
       "    }\n",
       "\n",
       "    .dataframe tbody tr th {\n",
       "        vertical-align: top;\n",
       "    }\n",
       "\n",
       "    .dataframe thead th {\n",
       "        text-align: right;\n",
       "    }\n",
       "</style>\n",
       "<table border=\"1\" class=\"dataframe\">\n",
       "  <thead>\n",
       "    <tr style=\"text-align: right;\">\n",
       "      <th></th>\n",
       "      <th>dxy</th>\n",
       "      <th>gene</th>\n",
       "      <th>sgd_name</th>\n",
       "      <th>go_term</th>\n",
       "      <th>gene_desc</th>\n",
       "    </tr>\n",
       "  </thead>\n",
       "  <tbody>\n",
       "    <tr>\n",
       "      <th>0</th>\n",
       "      <td>0.143707</td>\n",
       "      <td>YNL302C</td>\n",
       "      <td>RPS19B</td>\n",
       "      <td>GO:0003735</td>\n",
       "      <td>Protein component of the small (40S) ribosomal...</td>\n",
       "    </tr>\n",
       "    <tr>\n",
       "      <th>0</th>\n",
       "      <td>0.143707</td>\n",
       "      <td>YNL302C</td>\n",
       "      <td>RPS19B</td>\n",
       "      <td>GO:0002181</td>\n",
       "      <td>Protein component of the small (40S) ribosomal...</td>\n",
       "    </tr>\n",
       "    <tr>\n",
       "      <th>0</th>\n",
       "      <td>0.143707</td>\n",
       "      <td>YNL302C</td>\n",
       "      <td>RPS19B</td>\n",
       "      <td>GO:0006407</td>\n",
       "      <td>Protein component of the small (40S) ribosomal...</td>\n",
       "    </tr>\n",
       "    <tr>\n",
       "      <th>0</th>\n",
       "      <td>0.143707</td>\n",
       "      <td>YNL302C</td>\n",
       "      <td>RPS19B</td>\n",
       "      <td>GO:0042274</td>\n",
       "      <td>Protein component of the small (40S) ribosomal...</td>\n",
       "    </tr>\n",
       "    <tr>\n",
       "      <th>0</th>\n",
       "      <td>0.143707</td>\n",
       "      <td>YNL302C</td>\n",
       "      <td>RPS19B</td>\n",
       "      <td>GO:0022627</td>\n",
       "      <td>Protein component of the small (40S) ribosomal...</td>\n",
       "    </tr>\n",
       "  </tbody>\n",
       "</table>\n",
       "</div>"
      ],
      "text/plain": [
       "        dxy     gene sgd_name     go_term  \\\n",
       "0  0.143707  YNL302C   RPS19B  GO:0003735   \n",
       "0  0.143707  YNL302C   RPS19B  GO:0002181   \n",
       "0  0.143707  YNL302C   RPS19B  GO:0006407   \n",
       "0  0.143707  YNL302C   RPS19B  GO:0042274   \n",
       "0  0.143707  YNL302C   RPS19B  GO:0022627   \n",
       "\n",
       "                                           gene_desc  \n",
       "0  Protein component of the small (40S) ribosomal...  \n",
       "0  Protein component of the small (40S) ribosomal...  \n",
       "0  Protein component of the small (40S) ribosomal...  \n",
       "0  Protein component of the small (40S) ribosomal...  \n",
       "0  Protein component of the small (40S) ribosomal...  "
      ]
     },
     "execution_count": 19,
     "metadata": {},
     "output_type": "execute_result"
    }
   ],
   "source": [
    "merged = df.merge(go_terms, right_index=True, left_on='gene')\n",
    "merged.head()"
   ]
  },
  {
   "cell_type": "code",
   "execution_count": 20,
   "metadata": {},
   "outputs": [
    {
     "name": "stderr",
     "output_type": "stream",
     "text": [
      "/anaconda3/lib/python3.6/site-packages/scipy/stats/stats.py:1713: FutureWarning: Using a non-tuple sequence for multidimensional indexing is deprecated; use `arr[tuple(seq)]` instead of `arr[seq]`. In the future this will be interpreted as an array index, `arr[np.array(seq)]`, which will result either in an error or a different result.\n",
      "  return np.add.reduce(sorted[indexer] * weights, axis=axis) / sumval\n"
     ]
    },
    {
     "data": {
      "image/png": "[encoded data removed]",
      "text/plain": [
       "<Figure size 720x72 with 1 Axes>"
      ]
     },
     "metadata": {},
     "output_type": "display_data"
    }
   ],
   "source": [
    "import matplotlib.pyplot as plt\n",
    "\n",
    "graph = merged.drop_duplicates('gene')['dxy'].dropna()\n",
    "\n",
    "import seaborn as sns, numpy as np\n",
    "\n",
    "fig = plt.figure(figsize=(10, 1))\n",
    "ax = sns.distplot(graph, hist=False)\n",
    "plt.xlim(0.02, 0.2)\n",
    "\n",
    "\n",
    "# ax.set_label(r'$D_{xy}$',fontname=\"Microsoft Sans Serif\", fontsize=20, rotation=\"horizontal\", labelpad=-32,  y=1.08)\n",
    "# cb1.ax.tick_params(labelsize=14)\n",
    "# cb1.ax.yaxis.set_ticks_position('right')\n",
    "\n",
    "# fig.savefig('dxy_colorbar.png', dpi=2000)\n",
    "fig.savefig(\"./{}.eps\".format('dxy_wine_colorbar.png'),  dpi=1000,)"
   ]
  },
  {
   "cell_type": "code",
   "execution_count": 21,
   "metadata": {},
   "outputs": [],
   "source": [
    "def resample(go_term, gene_list, r1, r2):\n",
    "    \n",
    "        loc = go_term_groups_75.loc[go_term]\n",
    "#         gene_list = ast.literal_eval(loc['tested_gene_list'])\n",
    "        essential_count = int(loc['tested_essential_count'])\n",
    "        non_essential_count = int(loc['tested_gene_counts'] - essential_count)\n",
    "\n",
    "        my_dxy_median = loc['dxy_median']\n",
    "        print(my_dxy_median)\n",
    "\n",
    "        sample_dxy_med = 0\n",
    "\n",
    "        for i in range(10000):\n",
    "\n",
    "            sample = essential_df.sample(n=essential_count,replace=True, random_state=r1)\n",
    "            sample = sample.append(non_essential_df.sample(n=non_essential_count,replace=True, random_state=r2))\n",
    "\n",
    "            if sample['dxy'].median() >= my_dxy_median:\n",
    "                sample_dxy_med += 1\n",
    "\n",
    "\n",
    "        rv = sample_dxy_med/10000\n",
    "        print(go_term, rv)\n",
    "        return rv"
   ]
  },
  {
   "cell_type": "code",
   "execution_count": 22,
   "metadata": {},
   "outputs": [
    {
     "data": {
      "text/plain": [
       "0.11597189698150216"
      ]
     },
     "execution_count": 22,
     "metadata": {},
     "output_type": "execute_result"
    }
   ],
   "source": [
    "go5778_genes = merged[merged['go_term']=='GO:0005778']['dxy'].median()\n",
    "go5778_genes"
   ]
  },
  {
   "cell_type": "code",
   "execution_count": null,
   "metadata": {
    "scrolled": true
   },
   "outputs": [
    {
     "name": "stdout",
     "output_type": "stream",
     "text": [
      "0.11377589584586667\n"
     ]
    }
   ],
   "source": [
    "results = {}\n",
    "\n",
    "r1 = np.random.seed(521)\n",
    "r2 = np.random.seed(428)\n",
    "\n",
    "temp = merged.copy()\n",
    "\n",
    "temp['essential'] = temp['gene'].isin(essential_genes)\n",
    "\n",
    "#split merged data into essential and nonessential genes\n",
    "unique_merged = temp.drop(columns=['go_term']).drop_duplicates()\n",
    "essential_df = unique_merged[unique_merged['gene'].isin(essential_genes)]\n",
    "non_essential_df = unique_merged[~unique_merged['gene'].isin(essential_genes)]\n",
    "\n",
    "#group by GO term, add columns with count of genes in each GO term tested in population tests and total amount of genes in GO term\n",
    "go_term_groups = temp.groupby('go_term').count()['dxy'].to_frame().rename(columns={'dxy':'tested_gene_counts'})\n",
    "total_counts = temp.groupby('go_term').count()['gene']\n",
    "essential_counts = temp.groupby('go_term').sum()['essential']\n",
    "\n",
    "go_term_groups['total_gene_counts'] = total_counts\n",
    "go_term_groups['tested_essential_count'] = essential_counts\n",
    "\n",
    "medians = temp.groupby('go_term').median()[['dxy']].add_suffix('_median')\n",
    "\n",
    "go_term_groups = go_term_groups.merge(medians, right_index=True, left_index=True)\n",
    "\n",
    "go_term_groups = go_term_groups[['dxy_median', 'tested_gene_counts', 'total_gene_counts', 'tested_essential_count']]\n",
    "\n",
    "#eliminate GO terms with less than 75% of genes used in MK test or less than 10 genes tested\n",
    "go_term_groups_75 = go_term_groups[go_term_groups['tested_gene_counts']/go_term_groups['total_gene_counts'] > .75]\n",
    "go_term_groups_75 = go_term_groups_75[go_term_groups_75['tested_gene_counts'] > 10]\n",
    "\n",
    "results[pop] = resample('GO:0005778', go5778_genes, r1, r2)\n",
    "\n",
    "go_term_groups\n"
   ]
  },
  {
   "cell_type": "code",
   "execution_count": null,
   "metadata": {},
   "outputs": [],
   "source": [
    "go_term_groups.to_csv('/Users/clairedubin/spur/publishable_data/raw_data/population_dxy_resampling_110619.csv')\n"
   ]
  },
  {
   "cell_type": "code",
   "execution_count": 71,
   "metadata": {},
   "outputs": [
    {
     "name": "stderr",
     "output_type": "stream",
     "text": [
      "/anaconda3/lib/python3.6/site-packages/ipykernel_launcher.py:9: SettingWithCopyWarning: \n",
      "A value is trying to be set on a copy of a slice from a DataFrame.\n",
      "Try using .loc[row_indexer,col_indexer] = value instead\n",
      "\n",
      "See the caveats in the documentation: http://pandas.pydata.org/pandas-docs/stable/indexing.html#indexing-view-versus-copy\n",
      "  if __name__ == '__main__':\n"
     ]
    },
    {
     "name": "stdout",
     "output_type": "stream",
     "text": [
      "0.10888385011122634\n",
      "Dxy p for GO:0005778 without PEX18 and PEX27:  0.0227\n"
     ]
    }
   ],
   "source": [
    "#euro wine without PEX18 and PEX27\n",
    "go5778_minus1827 = df[(df['gene'].isin(go5778_genes)) &(df['population'] == '1WineEuropean') &\n",
    "   (~df['gene'].isin(['YHR160C', 'YOR193W']))]\n",
    "\n",
    "essential_count = go5778_minus1827[go5778_minus1827['gene'].isin(essential_genes)].shape[0]\n",
    "non_essential_count = int(go5778_minus1827.shape[0] - essential_count)\n",
    "\n",
    "temp = merged[merged['population'] == '1WineEuropean']\n",
    "temp['essential'] = temp['gene'].isin(essential_genes)\n",
    "\n",
    "#split merged data into essential and nonessential genes\n",
    "unique_merged = temp.drop(columns=['go_term']).drop_duplicates()\n",
    "essential_df = unique_merged[unique_merged['gene'].isin(essential_genes)]\n",
    "non_essential_df = unique_merged[~unique_merged['gene'].isin(essential_genes)]\n",
    "\n",
    "#group by GO term, add columns with count of genes in each GO term tested in population tests and total amount of genes in GO term\n",
    "go_term_groups = temp.groupby('go_term').count()['dxy'].to_frame().rename(columns={'dxy':'tested_gene_counts'})\n",
    "total_counts = temp.groupby('go_term').count()['gene']\n",
    "essential_counts = temp.groupby('go_term').sum()['essential']\n",
    "\n",
    "go_term_groups['total_gene_counts'] = total_counts\n",
    "go_term_groups['tested_essential_count'] = essential_counts\n",
    "\n",
    "medians = temp.groupby('go_term').median()[['dxy']].add_suffix('_median')\n",
    "\n",
    "go_term_groups = go_term_groups.merge(medians, right_index=True, left_index=True)\n",
    "\n",
    "go_term_groups = go_term_groups[['dxy_median', 'tested_gene_counts', 'total_gene_counts', 'tested_essential_count']]\n",
    "\n",
    "#eliminate GO terms with less than 75% of genes used in MK test or less than 10 genes tested\n",
    "go_term_groups_75 = go_term_groups[go_term_groups['tested_gene_counts']/go_term_groups['total_gene_counts'] > .75]\n",
    "go_term_groups_75 = go_term_groups_75[go_term_groups_75['tested_gene_counts'] > 10]\n",
    "\n",
    "r1 = np.random.seed(5)\n",
    "r2 = np.random.seed(6)\n",
    "\n",
    "\n",
    "my_dxy_median = go5778_minus1827['dxy'].median()\n",
    "print(my_dxy_median)\n",
    "\n",
    "sample_dxy_med = 0\n",
    "\n",
    "for i in range(10000):\n",
    "\n",
    "    sample = essential_df.sample(n=essential_count,replace=True, random_state=r1)\n",
    "    sample = sample.append(non_essential_df.sample(n=non_essential_count,replace=True, random_state=r2))\n",
    "\n",
    "    if sample['dxy'].median() >= my_dxy_median:\n",
    "        sample_dxy_med += 1\n",
    "\n",
    "\n",
    "print('Dxy p for GO:0005778 without PEX18 and PEX27: ', sample_dxy_med/10000)\n",
    "\n"
   ]
  },
  {
   "cell_type": "code",
   "execution_count": 42,
   "metadata": {},
   "outputs": [
    {
     "data": {
      "text/plain": [
       "dxy_median                 0.110488\n",
       "tested_gene_counts        32.000000\n",
       "total_gene_counts         32.000000\n",
       "tested_essential_count     1.000000\n",
       "Name: GO:0005778, dtype: float64"
      ]
     },
     "execution_count": 42,
     "metadata": {},
     "output_type": "execute_result"
    }
   ],
   "source": [
    "go_term_groups_75.loc['GO:0005778']"
   ]
  },
  {
   "cell_type": "code",
   "execution_count": 55,
   "metadata": {},
   "outputs": [],
   "source": [
    "results_df = pd.DataFrame.from_dict(results,orient='index')\n",
    "results_df.columns = ['dxy_p']\n",
    "results_df.to_csv('/Users/clairedubin/spur/publishable_data/raw_data/scer_population_dxy_resampling_pvals_102319.csv')"
   ]
  },
  {
   "cell_type": "code",
   "execution_count": 56,
   "metadata": {},
   "outputs": [],
   "source": [
    "results_df.to_clipboard(sep='\\t')"
   ]
  }
 ],
 "metadata": {
  "kernelspec": {
   "display_name": "Python 3",
   "language": "python",
   "name": "python3"
  },
  "language_info": {
   "codemirror_mode": {
    "name": "ipython",
    "version": 3
   },
   "file_extension": ".py",
   "mimetype": "text/x-python",
   "name": "python",
   "nbconvert_exporter": "python",
   "pygments_lexer": "ipython3",
   "version": "3.6.5"
  }
 },
 "nbformat": 4,
 "nbformat_minor": 2
}
