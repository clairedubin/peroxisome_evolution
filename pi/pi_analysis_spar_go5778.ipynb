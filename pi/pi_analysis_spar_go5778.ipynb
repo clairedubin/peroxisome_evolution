{
 "cells": [
  {
   "cell_type": "code",
   "execution_count": 16,
   "metadata": {},
   "outputs": [],
   "source": [
    "import pandas as pd\n",
    "import os\n",
    "import numpy as np"
   ]
  },
  {
   "cell_type": "code",
   "execution_count": 6,
   "metadata": {},
   "outputs": [],
   "source": [
    "df = pd.read_csv('/Users/clairedubin/spur/peroxisomes/pi/pi_eurospar_032620.csv', header=None).drop_duplicates(0)"
   ]
  },
  {
   "cell_type": "code",
   "execution_count": 7,
   "metadata": {},
   "outputs": [
    {
     "data": {
      "text/plain": [
       "3521"
      ]
     },
     "execution_count": 7,
     "metadata": {},
     "output_type": "execute_result"
    }
   ],
   "source": [
    "directory = \"/Users/clairedubin/spur/peroxisomes/alignments/scer_spar_by_scer_population_091919/1WineEuropean/\"\n",
    "\n",
    "all_files = os.listdir(directory)\n",
    "\n",
    "len(all_files)"
   ]
  },
  {
   "cell_type": "code",
   "execution_count": 8,
   "metadata": {
    "scrolled": true
   },
   "outputs": [
    {
     "data": {
      "text/plain": [
       "(3482, 2)"
      ]
     },
     "execution_count": 8,
     "metadata": {},
     "output_type": "execute_result"
    }
   ],
   "source": [
    "df.shape"
   ]
  },
  {
   "cell_type": "code",
   "execution_count": 9,
   "metadata": {},
   "outputs": [
    {
     "data": {
      "text/html": [
       "<div>\n",
       "<style scoped>\n",
       "    .dataframe tbody tr th:only-of-type {\n",
       "        vertical-align: middle;\n",
       "    }\n",
       "\n",
       "    .dataframe tbody tr th {\n",
       "        vertical-align: top;\n",
       "    }\n",
       "\n",
       "    .dataframe thead th {\n",
       "        text-align: right;\n",
       "    }\n",
       "</style>\n",
       "<table border=\"1\" class=\"dataframe\">\n",
       "  <thead>\n",
       "    <tr style=\"text-align: right;\">\n",
       "      <th></th>\n",
       "      <th>gene</th>\n",
       "      <th>pi</th>\n",
       "    </tr>\n",
       "  </thead>\n",
       "  <tbody>\n",
       "    <tr>\n",
       "      <th>0</th>\n",
       "      <td>YBR070C</td>\n",
       "      <td>0.000509</td>\n",
       "    </tr>\n",
       "    <tr>\n",
       "      <th>1</th>\n",
       "      <td>YIL093C</td>\n",
       "      <td>0.002013</td>\n",
       "    </tr>\n",
       "    <tr>\n",
       "      <th>2</th>\n",
       "      <td>YKR078W</td>\n",
       "      <td>0.000517</td>\n",
       "    </tr>\n",
       "    <tr>\n",
       "      <th>3</th>\n",
       "      <td>YKR086W</td>\n",
       "      <td>0.002217</td>\n",
       "    </tr>\n",
       "    <tr>\n",
       "      <th>4</th>\n",
       "      <td>YOR209C</td>\n",
       "      <td>0.000310</td>\n",
       "    </tr>\n",
       "  </tbody>\n",
       "</table>\n",
       "</div>"
      ],
      "text/plain": [
       "      gene        pi\n",
       "0  YBR070C  0.000509\n",
       "1  YIL093C  0.002013\n",
       "2  YKR078W  0.000517\n",
       "3  YKR086W  0.002217\n",
       "4  YOR209C  0.000310"
      ]
     },
     "execution_count": 9,
     "metadata": {},
     "output_type": "execute_result"
    }
   ],
   "source": [
    "df['gene'] = df[0].str.split('.', expand=True)[0]\n",
    "\n",
    "df = df.rename(columns={1:'pi'})[['gene', 'pi']]\n",
    "df.head()"
   ]
  },
  {
   "cell_type": "code",
   "execution_count": 10,
   "metadata": {},
   "outputs": [],
   "source": [
    "essential = pd.read_csv('/Users/clairedubin/spur/publishable_data/external_datasets/essential.csv', header=None)\n",
    "essential[1] = essential[1].str.strip('\\t')\n",
    "essential_genes = essential[1].str.strip(' ').tolist()"
   ]
  },
  {
   "cell_type": "code",
   "execution_count": 11,
   "metadata": {},
   "outputs": [],
   "source": [
    "def resample(df1, df2, cols='all', n=10000):\n",
    "    \n",
    "    results = 0\n",
    "    \n",
    "    \n",
    "    if cols != 'all':\n",
    "\n",
    "        df1 = df1[cols]\n",
    "        df2 = df2[cols]\n",
    "\n",
    "    actual_med = df1['pi'].median()\n",
    "    \n",
    "    essential_count = len([i for i in df1['gene'] if i in essential_genes])\n",
    "    nonessential_count = len(df1['gene']) - essential_count\n",
    "    \n",
    "    print('essential count: ', essential_count)\n",
    "    print('nonessential_count: ', nonessential_count)\n",
    "    \n",
    "    essential_df = df2[df2['gene'].isin(essential_genes)]\n",
    "    nonessential_df =  df2[~df2['gene'].isin(essential_genes)]\n",
    "\n",
    "\n",
    "    for _ in range(n):\n",
    "        \n",
    "        if _ % 100 == 0:\n",
    "        \n",
    "            print(_)\n",
    "\n",
    "        sample = essential_df.sample(n=essential_count)\n",
    "        sample = sample.append(nonessential_df.sample(n=nonessential_count))\n",
    "\n",
    "        sample_med = sample['pi'].median()\n",
    "\n",
    "       \n",
    "        if sample_med > actual_med:\n",
    "\n",
    "            results += 1\n",
    "\n",
    "\n",
    "    return results/n        \n",
    "    "
   ]
  },
  {
   "cell_type": "code",
   "execution_count": 12,
   "metadata": {},
   "outputs": [],
   "source": [
    "go5778 = ['YPL112C',\n",
    " 'YHR150W',\n",
    " 'YPR165W',\n",
    " 'YGR028W',\n",
    " 'YNL214W',\n",
    " 'YPR128C',\n",
    " 'YML075C',\n",
    " 'YGR004W',\n",
    " 'YGR239C',\n",
    " 'YLR324W',\n",
    " 'YGL153W',\n",
    " 'YHR160C',\n",
    " 'YMR163C',\n",
    " 'YDR265W',\n",
    " 'YLR450W',\n",
    " 'YDR244W',\n",
    " 'YMR026C',\n",
    " 'YKL188C',\n",
    " 'YDR329C',\n",
    " 'YLR191W',\n",
    " 'YDR479C',\n",
    " 'YOL147C',\n",
    " 'YOR193W',\n",
    " 'YBR168W',\n",
    " 'YPL147W',\n",
    " 'YBR222C',\n",
    " 'YNL329C',\n",
    " 'YDL065C',\n",
    " 'YOL044W',\n",
    " 'YAL055W']"
   ]
  },
  {
   "cell_type": "code",
   "execution_count": 13,
   "metadata": {},
   "outputs": [
    {
     "data": {
      "text/plain": [
       "(30, 2)"
      ]
     },
     "execution_count": 13,
     "metadata": {},
     "output_type": "execute_result"
    }
   ],
   "source": [
    "\n",
    "go5778_df = df[df['gene'].isin(go5778)]\n",
    "go5778_df.shape"
   ]
  },
  {
   "cell_type": "code",
   "execution_count": 17,
   "metadata": {},
   "outputs": [
    {
     "name": "stdout",
     "output_type": "stream",
     "text": [
      "essential count:  1\n",
      "nonessential_count:  29\n",
      "0\n",
      "100\n",
      "200\n",
      "300\n",
      "400\n",
      "500\n",
      "600\n",
      "700\n",
      "800\n",
      "900\n",
      "1000\n",
      "1100\n",
      "1200\n",
      "1300\n",
      "1400\n",
      "1500\n",
      "1600\n",
      "1700\n",
      "1800\n",
      "1900\n",
      "2000\n",
      "2100\n",
      "2200\n",
      "2300\n",
      "2400\n",
      "2500\n",
      "2600\n",
      "2700\n",
      "2800\n",
      "2900\n",
      "3000\n",
      "3100\n",
      "3200\n",
      "3300\n",
      "3400\n",
      "3500\n",
      "3600\n",
      "3700\n",
      "3800\n",
      "3900\n",
      "4000\n",
      "4100\n",
      "4200\n",
      "4300\n",
      "4400\n",
      "4500\n",
      "4600\n",
      "4700\n",
      "4800\n",
      "4900\n",
      "5000\n",
      "5100\n",
      "5200\n",
      "5300\n",
      "5400\n",
      "5500\n",
      "5600\n",
      "5700\n",
      "5800\n",
      "5900\n",
      "6000\n",
      "6100\n",
      "6200\n",
      "6300\n",
      "6400\n",
      "6500\n",
      "6600\n",
      "6700\n",
      "6800\n",
      "6900\n",
      "7000\n",
      "7100\n",
      "7200\n",
      "7300\n",
      "7400\n",
      "7500\n",
      "7600\n",
      "7700\n",
      "7800\n",
      "7900\n",
      "8000\n",
      "8100\n",
      "8200\n",
      "8300\n",
      "8400\n",
      "8500\n",
      "8600\n",
      "8700\n",
      "8800\n",
      "8900\n",
      "9000\n",
      "9100\n",
      "9200\n",
      "9300\n",
      "9400\n",
      "9500\n",
      "9600\n",
      "9700\n",
      "9800\n",
      "9900\n"
     ]
    },
    {
     "data": {
      "text/plain": [
       "0.2543"
      ]
     },
     "execution_count": 17,
     "metadata": {},
     "output_type": "execute_result"
    }
   ],
   "source": [
    "np.random.seed(5)\n",
    "\n",
    "\n",
    "resample(go5778_df, df)"
   ]
  },
  {
   "cell_type": "code",
   "execution_count": null,
   "metadata": {},
   "outputs": [],
   "source": []
  }
 ],
 "metadata": {
  "kernelspec": {
   "display_name": "Python 3",
   "language": "python",
   "name": "python3"
  },
  "language_info": {
   "codemirror_mode": {
    "name": "ipython",
    "version": 3
   },
   "file_extension": ".py",
   "mimetype": "text/x-python",
   "name": "python",
   "nbconvert_exporter": "python",
   "pygments_lexer": "ipython3",
   "version": "3.6.5"
  }
 },
 "nbformat": 4,
 "nbformat_minor": 2
}
