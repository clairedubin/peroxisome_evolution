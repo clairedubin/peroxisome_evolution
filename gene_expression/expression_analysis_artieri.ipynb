{
 "cells": [
  {
   "cell_type": "code",
   "execution_count": null,
   "metadata": {},
   "outputs": [],
   "source": [
    "#imports\n",
    "import pandas as pd\n",
    "import ast\n",
    "import matplotlib\n",
    "from matplotlib import pyplot as plt\n",
    "import numpy as np\n",
    "import seaborn as sns"
   ]
  },
  {
   "cell_type": "code",
   "execution_count": null,
   "metadata": {},
   "outputs": [],
   "source": [
    "np.random.seed(133)"
   ]
  },
  {
   "cell_type": "code",
   "execution_count": null,
   "metadata": {},
   "outputs": [],
   "source": [
    "#data from: https://www.ncbi.nlm.nih.gov/geo/query/acc.cgi?acc=GSE50049\n",
    "\t# Artieri CG, Fraser HB. Evolution at two levels of gene expression in yeast. \n",
    "    #Genome Res 2014 Mar;24(3):411-21. PMID: 24318729\n",
    "\n",
    "df = pd.read_csv('/Users/clairedubin/spur/publishable_data/external_datasets/GSE50049_PROCESSED_DATA_10samples.csv')\n",
    "df.head()"
   ]
  },
  {
   "cell_type": "code",
   "execution_count": null,
   "metadata": {},
   "outputs": [],
   "source": [
    "#remove any genes not tested in dxy\n",
    "dxy_genes = pd.read_csv('/Users/clairedubin/spur/peroxisomes/dxy/raw_data/1WineEuropean_dxy_110619.csv')['Unnamed: 0'].str.split('_', expand=True)[2].tolist()\n",
    "df = df[df['SGD'].isin(dxy_genes)]\n",
    "df.head()"
   ]
  },
  {
   "cell_type": "code",
   "execution_count": null,
   "metadata": {
    "code_folding": [
     0
    ]
   },
   "outputs": [],
   "source": [
    "# readME from website:\n",
    "\n",
    "# SCER_GENE\tS. cerevisiae gene name according to the annotation of Scanell et al. 2011\n",
    "# SPAR_GENE\tS. paradoxus gene name according to the annotation of Scanell et al. 2011\n",
    "# SGD\tSaccharomyces Genome Database gene identifier ('NA' indicates that the gene is present in the Scannell et al. (2011) annotation, but absent from the SGD)\n",
    "# SGD_SYSTEMATIC_ID\tSGD systematic ID\n",
    "# STANDARD_NAME\tStandard three letter designation\n",
    "# SCER_MAPPABLE_BASES\tNumber of unmasked bases in the Scer ortholog\n",
    "# SPAR_MAPPABLE_BASES\tNumber of unmasked bases in the Spar ortholog\n",
    "# HYBRID_SCER_MRNA_REP1_TOTCOV\tThe total base level coverage of the Scer allele in replicate 1 of the mRNA fraction\n",
    "# HYBRID_SCER_MRNA_REP2_TOTCOV\tas above, replicate 2\n",
    "# HYBRID_SPAR_MRNA_REP1_TOTCOV\tThe total base level coverage of the Spar allele in replicate 1 of the mRNA fraction (Note that all total coverage Spar samples are scaled such that the total number of bases covered are the same between species)\n",
    "# HYBRID_SPAR_MRNA_REP2_TOTCOV\tas above, replicate 2\n",
    "# HYBRID_MRNA_REP1_RAT\tThe started (coverage + 1) Log2 Sc/Sp ratio for mRNA fraction replicate 1\n",
    "# HYBRID_MRNA_REP2_RAT\tas above, replicate 2\n",
    "# PARENTAL_SCER_MRNA_REP1_TOTCOV\tThe total base level coverage of the Scer allele in replicate 1 of the mRNA fraction\n",
    "# PARENTAL_SCER_MRNA_REP2_TOTCOV\tas above, replicate 2\n",
    "# PARENTAL_SPAR_MRNA_REP1_TOTCOV\tThe total base level coverage of the Spar allele in replicate 1 of the mRNA fraction (Note that all total coverage Spar samples are scaled such that the total number of bases covered are the same between species)\n",
    "# PARENTAL_SPAR_MRNA_REP2_TOTCOV\tas above, replicate 2\n",
    "# PARENTAL_MRNA_REP1_RAT\tThe started (coverage + 1) Log2 Sc/Sp ratio for mRNA fraction replicate 1\n",
    "# PARENTAL_MRNA_REP2_RAT\tas above, replicate 2\n",
    "# HYBRID_SCER_RIBO_REP1_TOTCOV\tThe total base level coverage of the Scer allele in replicate 1 of the Ribo fraction\n",
    "# HYBRID_SCER_RIBO_REP2_TOTCOV\tas above, replicate 2\n",
    "# HYBRID_SPAR_RIBO_REP1_TOTCOV\tThe total base level coverage of the Spar allele in replicate 1 of the Ribo fraction\n",
    "# HYBRID_SPAR_RIBO_REP2_TOTCOV\tas above, replicate 2\n",
    "# HYBRID_RIBO_REP1_RAT\tThe started (coverage + 1) Log2 Sc/Sp ratio for Ribo fraction replicate 1\n",
    "# HYBRID_RIBO_REP2_RAT\tas above, replicate 2\n",
    "# PARENTAL_SCER_RIBO_REP1_TOTCOV\tThe total base level coverage of the Scer allele in replicate 1 of the Ribo fraction\n",
    "# PARENTAL_SCER_RIBO_REP2_TOTCOV\tas above, replicate 2\n",
    "# PARENTAL_SPAR_RIBO_REP1_TOTCOV\tThe total base level coverage of the Spar allele in replicate 1 of the Ribo fraction\n",
    "# PARENTAL_SPAR_RIBO_REP2_TOTCOV\tas above, replicate 2\n",
    "# PARENTAL_RIBO_REP1_RAT\tThe started (coverage + 1) Log2 Sc/Sp ratio for Ribo fraction replicate 1\n",
    "# PARENTAL_RIBO_REP2_RAT\tas above, replicate 2\n",
    "# MRNA_CIS_TEST\t≥ than 100 reads mapping to both orthologs in both replicates in the hybrid mRNA fraction (minimum to test for significant differences) (1 = yes, 0 = no)\n",
    "# TRANSL_CIS_TEST\t≥ than 100 reads mapping to both orthologs in both replicates in the hybrid mRNA and Ribo fractions (minimum to test for significant differences) (1 = yes, 0 = no)\n",
    "# PARENTAL_TEST\t≥ than 100 reads mapping to both orthologs in both replicates in all hybrid and parental mRNA fractions, and no orthologs differentially expressed due to mating type or ploidy state(1 = yes, 0 = no)\n",
    "# MRNA_CIS_MAX_P\tMax p value (2 tailed) obtained from the permutation approach testing for significant mRNA divergence in cis\n",
    "# MRNA_CIS_DIR\tSpecies with higher expression level\n",
    "# MRNA_CIS_NO_TEST\tFailed to test because: LOW_COV, < 100 reads in appropriate samples; REPS_DISAGREE, replicates disagree in direction\n",
    "# TRANSL_CIS_MAX_P\tMax p value (2 tailed) obtained from the permutation approach testing for significant translational divergence in cis\n",
    "# TRANSL_CIS_DIR\tSpecies with higher expression level\n",
    "# TRANSL_CIS_NO_TEST\tFailed to test because: LOW_COV, < 100 reads in appropriate samples; REPS_DISAGREE, replicates disagree in direction\n",
    "# MRNA_TRANS_MAX_P\tMax p value (2 tailed) obtained from the permutation approach testing for significant mRNA divergence in trans\n",
    "# MRNA_TRANS_DIR\tSpecies with higher expression level\n",
    "# MRNA_TRANS_NO_TEST\tFailed to test because: LOW_COV, < 100 reads in appropriate samples; REPS_DISAGREE, replicates disagree in direction\n",
    "# TRANSL_TRANS_MAX_P\tMax p value (2 tailed) obtained from the permutation approach testing for significant translational divergence in trans\n",
    "# TRANSL_TRANS_DIR\tSpecies with higher expression level\n",
    "# TRANSL_TRANS_NO_TEST\tFailed to test because: LOW_COV, < 100 reads in appropriate samples; REPS_DISAGREE, replicates disagree in direction\n",
    "# MRNA_CIS_FDR_ADJ_P\tFDR adjusted pvalue for the mRNA cis test\n",
    "# TRANSL_CIS_FDR_ADJ_P\tFDR adjusted pvalue for the translational cis test\n",
    "# MRNA_TRANS_FDR_ADJ_P\tFDR adjusted pvalue for the mRNA trans test\n",
    "# TRANSL_TRANS_FDR_ADJ_P\tFDR adjusted pvalue for the translational trans test\n",
    "# MRNA_CIS_SCER\tSignificant mRNA divergence in cis where Scer is the more highly expressed allele? (1 = yes, 0 = no)\n",
    "# MRNA_CIS_SPAR\tSignificant mRNA divergence in cis where Spar is the more highly expressed allele? (1 = yes, 0 = no)\n",
    "# TRANSL_CIS_SCER\tSignificant translational divergence in cis where Scer is the more highly translated allele? (1 = yes, 0 = no)\n",
    "# TRANSL_CIS_SPAR\tSignificant translational divergence in cis where Spar is the more highly translated allele? (1 = yes, 0 = no)\n",
    "# MRNA_TRANS_SCER\tSignificant mRNA divergence in trans where Scer is the more highly expressed allele? (1 = yes, 0 = no)\n",
    "# MRNA_TRANS_SPAR\tSignificant mRNA divergence in trans where Spar is the more highly expressed allele? (1 = yes, 0 = no)\n",
    "# TRANSL_TRANS_SCER\tSignificant translational divergence in trans where Scer is the more highly translated allele? (1 = yes, 0 = no)\n",
    "# TRANSL_TRANS_SPAR\tSignificant translational divergence in trans where Spar is the more highly translated allele? (1 = yes, 0 = no)\n",
    "# HYBRID_SCER_MRNA_REP1_RPKM\tReads per Kilobase per Million Mapped Reads mapping to the Scer allele in the hybrid mRNA fraction, replicate 1\n",
    "# HYBRID_SCER_MRNA_REP2_RPKM\tas above, replicate 2\n",
    "# HYBRID_SPAR_MRNA_REP1_RPKM\tReads per Kilobase per Million Mapped Reads mapping to the Spar allele in the hybrid mRNA fraction, replicate 1\n",
    "# HYBRID_SPAR_MRNA_REP2_RPKM\tas above, replicate 2\n",
    "# HYBRID_SCER_RIBO_REP1_RPKM\tReads per Kilobase per Million Mapped Reads mapping to the Scer allele in the hybrid Ribo fraction, replicate 1\n",
    "# HYBRID_SCER_RIBO_REP2_RPKM\tas above, replicate 2\n",
    "# HYBRID_SPAR_RIBO_REP1_RPKM\tReads per Kilobase per Million Mapped Reads mapping to the Spar allele in the hybrid Ribo fraction, replicate 1\n",
    "# HYBRID_SPAR_RIBO_REP2_RPKM\tas above, replicate 2\n",
    "# PARENTAL_SCER_MRNA_REP1_RPKM\tReads per Kilobase per Million Mapped Reads mapping to the Scer allele in the parental mRNA fraction, replicate 1\n",
    "# PARENTAL_SCER_MRNA_REP2_RPKM\tas above, replicate 2\n",
    "# PARENTAL_SPAR_MRNA_REP1_RPKM\tReads per Kilobase per Million Mapped Reads mapping to the Spar allele in the parental mRNA fraction, replicate 1\n",
    "# PARENTAL_SPAR_MRNA_REP2_RPKM\tas above, replicate 2\n",
    "# PARENTAL_SCER_RIBO_REP1_RPKM\tReads per Kilobase per Million Mapped Reads mapping to the Scer allele in the parental Ribo fraction, replicate 1\n",
    "# PARENTAL_SCER_RIBO_REP2_RPKM\tas above, replicate 2\n",
    "# PARENTAL_SPAR_RIBO_REP1_RPKM\tReads per Kilobase per Million Mapped Reads mapping to the Spar allele in the parental Ribo fraction, replicate 1\n",
    "# PARENTAL_SPAR_RIBO_REP2_RPKM\tas above, replicate 2\n",
    "# AFFECTED_BY_PLOIDY\tGene differentially expressed in different ploidy states according to Wu et al. (2010) (1 = yes, 0 = no)\n",
    "# AFFTECTED_BY_MATING_TYPE\tGene differentially expressed in different mating types according to Galitski et al. (1999) (1 = yes, 0 = no)\n",
    "# TATA\tTATA containing promoter according to Tirosh et al. (2006) (1 = yes, 0 = no)\n",
    "# TIROSH_2008_OPN\tOPN, DPN, or NA promoter according to Tirosh et al. (2008) (1 = yes, 0 = no)\n",
    "# CDS_PDIV\tPercent divergence in CDS\n",
    "# PROMOTER_PDIV\tPercent divergence in Promoter (200 bp upstream of TSS)\n",
    "# FIVE_UTR_PDIV\tPercent divergence in 5 prime UTR\n",
    "# THREE_UTR_PDIV\tPercent divergence in 3 prime UTR\n",
    "# FIVE_UTR_50BP_PDIV\tPercent divergence in first 50 bp of 5 prime UTR\n",
    "# KA\tNon-synonymous substitutions per non-synonymous site between S. cerevisiae and S. paradoxus\n",
    "# KS\tSynonymous substitutions per synonymous site between S. cerevisiae and S. paradoxus\n",
    "# OMEGA\tKA/KS"
   ]
  },
  {
   "cell_type": "code",
   "execution_count": null,
   "metadata": {},
   "outputs": [],
   "source": [
    "#load go term data as go_terms, remove 3 broad go terms\n",
    "#source: http://geneontology.org/docs/download-go-annotations/\n",
    "\n",
    "go_terms = pd.read_csv('/Users/clairedubin/spur/publishable_data/external_datasets/go_terms.csv', header=None)\n",
    "go_terms = go_terms.drop(columns=[0, 1,3,5,6,7,8,11,12,13,14,15])\n",
    "go_terms = go_terms.rename(columns={2: 'sgd_name', 4:'go_term', 9:'gene_desc', 10:'gene'})\n",
    "go_terms['gene'] = [i[0] for i in go_terms['gene'].str.split('|')]\n",
    "go_terms = go_terms.drop_duplicates()\n",
    "go_terms = go_terms[~go_terms['go_term'].isin(['GO:0005575', 'GO:0008150', 'GO:0003674'])]\n",
    "go_terms = go_terms.set_index('gene')\n",
    "go_terms.head()"
   ]
  },
  {
   "cell_type": "code",
   "execution_count": null,
   "metadata": {},
   "outputs": [],
   "source": [
    "#load list of essential genes as essential_genes\n",
    "#source: http://www-sequence.stanford.edu/group/yeast_deletion_project/Essential_ORFs.txt\n",
    "\n",
    "essential = pd.read_csv('/Users/clairedubin/spur/publishable_data/external_datasets/essential.csv', header=None)\n",
    "essential[1] = essential[1].str.strip('\\t')\n",
    "essential_genes = essential[1].str.strip(' ').tolist()"
   ]
  },
  {
   "cell_type": "code",
   "execution_count": null,
   "metadata": {},
   "outputs": [],
   "source": [
    "#split expression data into essential and non essential genes\n",
    "\n",
    "essential_df = df[df['SGD'].isin(essential_genes)]\n",
    "non_essential_df = df[~df['SGD'].isin(essential_genes)]"
   ]
  },
  {
   "cell_type": "code",
   "execution_count": null,
   "metadata": {},
   "outputs": [],
   "source": [
    "#merge GO term and expression data\n",
    "\n",
    "merged = go_terms.merge(df, left_index=True, right_on='SGD')[['go_term', 'SGD', 'STANDARD_NAME','PARENTAL_RIBO_REP1_RAT', 'PARENTAL_RIBO_REP2_RAT', 'PARENTAL_MRNA_REP1_RAT', 'PARENTAL_MRNA_REP2_RAT','PARENTAL_TEST', 'HYBRID_MRNA_REP1_RAT', 'HYBRID_MRNA_REP2_RAT','HYBRID_RIBO_REP1_RAT', 'HYBRID_RIBO_REP2_RAT']]\n",
    "merged['essential'] = merged.index.isin(essential_genes)\n",
    "merged.head()"
   ]
  },
  {
   "cell_type": "code",
   "execution_count": null,
   "metadata": {
    "scrolled": true
   },
   "outputs": [],
   "source": [
    "#group by GO term\n",
    "go_term_groups = merged.groupby('go_term').count()\n",
    "\n",
    "medians = merged.set_index('go_term').drop(columns=['SGD', 'STANDARD_NAME']).groupby('go_term').median()[['PARENTAL_RIBO_REP1_RAT', 'PARENTAL_RIBO_REP2_RAT', 'PARENTAL_MRNA_REP1_RAT', 'PARENTAL_MRNA_REP2_RAT','PARENTAL_TEST', 'HYBRID_MRNA_REP1_RAT', 'HYBRID_MRNA_REP2_RAT','HYBRID_RIBO_REP1_RAT', 'HYBRID_RIBO_REP2_RAT']].add_suffix('_median')\n",
    "means = merged.set_index('go_term').drop(columns=['SGD', 'STANDARD_NAME']).groupby('go_term').mean()[['PARENTAL_RIBO_REP1_RAT', 'PARENTAL_RIBO_REP2_RAT', 'PARENTAL_MRNA_REP1_RAT', 'PARENTAL_MRNA_REP2_RAT','PARENTAL_TEST', 'HYBRID_MRNA_REP1_RAT', 'HYBRID_MRNA_REP2_RAT','HYBRID_RIBO_REP1_RAT', 'HYBRID_RIBO_REP2_RAT']].add_suffix('_mean')\n",
    "\n",
    "\n",
    "medians['PARENTAL_MRNA_RAT_median_comb'] = medians[['PARENTAL_MRNA_REP1_RAT_median','PARENTAL_MRNA_REP2_RAT_median']].mean(axis=1).abs()\n",
    "means['PARENTAL_MRNA_RAT_mean_comb'] = means[['PARENTAL_MRNA_REP1_RAT_mean','PARENTAL_MRNA_REP2_RAT_mean']].mean(axis=1).abs()\n",
    "medians['HYBRID_MRNA_RAT_median_comb'] = medians[['HYBRID_MRNA_REP1_RAT_median','HYBRID_MRNA_REP2_RAT_median']].mean(axis=1).abs()\n",
    "means['HYBRID_MRNA_RAT_mean_comb'] = means[['HYBRID_MRNA_REP1_RAT_mean','HYBRID_MRNA_REP2_RAT_mean']].mean(axis=1).abs()\n",
    "\n",
    "medians['PARENTAL_RIBO_RAT_median_comb'] = medians[['PARENTAL_RIBO_REP1_RAT_median','PARENTAL_RIBO_REP2_RAT_median']].mean(axis=1).abs()\n",
    "means['PARENTAL_RIBO_RAT_mean_comb'] = means[['PARENTAL_RIBO_REP1_RAT_mean','PARENTAL_RIBO_REP2_RAT_mean']].mean(axis=1).abs()\n",
    "medians['HYBRID_RIBO_RAT_median_comb'] = medians[['HYBRID_RIBO_REP1_RAT_median','HYBRID_RIBO_REP2_RAT_median']].mean(axis=1).abs()\n",
    "means['HYBRID_RIBO_RAT_mean_comb'] = means[['HYBRID_RIBO_REP1_RAT_mean','HYBRID_RIBO_REP2_RAT_mean']].mean(axis=1).abs()\n",
    "\n",
    "go_term_groups = means.merge(medians, right_index=True, left_index=True)\n",
    "\n",
    "go_term_groups.head()"
   ]
  },
  {
   "cell_type": "code",
   "execution_count": null,
   "metadata": {},
   "outputs": [],
   "source": [
    "#get GO:0005778 data\n",
    "go5778_genes = ast.literal_eval(go_term_groups.loc['GO:0005778']['all_gene_list'])\n",
    "go5778_df = df[df['SGD'].isin(go5778_genes)]\n",
    "go5778_df = df[df['SGD'].isin(go5778_genes)][['SGD', 'STANDARD_NAME','PARENTAL_RIBO_REP1_RAT', 'PARENTAL_RIBO_REP2_RAT', 'PARENTAL_MRNA_REP1_RAT', 'PARENTAL_MRNA_REP2_RAT','PARENTAL_TEST', 'HYBRID_MRNA_REP1_RAT', 'HYBRID_MRNA_REP2_RAT','HYBRID_RIBO_REP1_RAT', 'HYBRID_RIBO_REP2_RAT']]\n",
    "go5778_df.head()"
   ]
  },
  {
   "cell_type": "code",
   "execution_count": null,
   "metadata": {},
   "outputs": [],
   "source": [
    "#resample function for mRNA profiling\n",
    "\n",
    "def resample_abs_median(go_term):\n",
    "    \n",
    "    loc = go_term_groups_75.loc[go_term]\n",
    "    gene_list = ast.literal_eval(loc['tested_gene_list'])\n",
    "    essential_count = loc['tested_essential_count']\n",
    "    non_essential_count = len(gene_list) - essential_count\n",
    "    \n",
    "    my_parent_median = loc['PARENTAL_MRNA_RAT_median_comb']\n",
    "    my_hybrid_median = loc['HYBRID_MRNA_RAT_median_comb']\n",
    "\n",
    "    parent_count = 0\n",
    "    hybrid_count = 0\n",
    "    \n",
    "    for i in range(10000):\n",
    "\n",
    "        sample = essential_df.sample(n=essential_count,replace=True)\n",
    "        sample = sample.append(non_essential_df.sample(n=non_essential_count,replace=True))\n",
    "\n",
    "        parent_sample_median = np.abs(np.mean([sample['PARENTAL_MRNA_REP1_RAT'].median(), sample['PARENTAL_MRNA_REP2_RAT'].median()]))\n",
    "        hybrid_sample_median = np.abs(np.mean([sample['HYBRID_MRNA_REP1_RAT'].median(), sample['HYBRID_MRNA_REP2_RAT'].median()]))\n",
    "\n",
    "        if parent_sample_median > my_parent_median:\n",
    "            parent_count += 1\n",
    "        if hybrid_sample_median > my_hybrid_median:\n",
    "            hybrid_count += 1\n",
    "\n",
    "    print(go_term, parent_count/10000, hybrid_count/10000)\n",
    "    return [parent_count/10000, hybrid_count/10000]"
   ]
  },
  {
   "cell_type": "code",
   "execution_count": null,
   "metadata": {},
   "outputs": [],
   "source": [
    "resample_abs_median('GO:0005778')"
   ]
  },
  {
   "cell_type": "code",
   "execution_count": null,
   "metadata": {},
   "outputs": [],
   "source": [
    "#resample function for ribosomal profiling\n",
    "\n",
    "def resample_abs_median_ribo(go_term):\n",
    "    \n",
    "    loc = go_term_groups_75.loc[go_term]\n",
    "    gene_list = ast.literal_eval(loc['tested_gene_list'])\n",
    "    essential_count = loc['tested_essential_count']\n",
    "    non_essential_count = len(gene_list) - essential_count\n",
    "    \n",
    "    my_parent_median = loc['PARENTAL_RIBO_RAT_median_comb']\n",
    "    my_hybrid_median = loc['HYBRID_RIBO_RAT_median_comb']\n",
    "\n",
    "    parent_count = 0\n",
    "    hybrid_count = 0\n",
    "    \n",
    "    for i in range(10000):\n",
    "\n",
    "        sample = essential_df.sample(n=essential_count,replace=True)\n",
    "        sample = sample.append(non_essential_df.sample(n=non_essential_count,replace=True))\n",
    "\n",
    "        parent_sample_median = np.abs(np.mean([sample['PARENTAL_RIBO_REP1_RAT'].median(), sample['PARENTAL_RIBO_REP2_RAT'].median()]))\n",
    "        hybrid_sample_median = np.abs(np.mean([sample['HYBRID_RIBO_REP1_RAT'].median(), sample['HYBRID_RIBO_REP2_RAT'].median()]))\n",
    "\n",
    "        if parent_sample_median > my_parent_median:\n",
    "            parent_count += 1\n",
    "        if hybrid_sample_median > my_hybrid_median:\n",
    "            hybrid_count += 1\n",
    "\n",
    "    print(go_term, parent_count/10000, hybrid_count/10000)\n",
    "    return [parent_count/10000, hybrid_count/10000]"
   ]
  },
  {
   "cell_type": "code",
   "execution_count": null,
   "metadata": {
    "scrolled": true
   },
   "outputs": [],
   "source": [
    "resample_abs_median_ribo('GO:0005778')"
   ]
  }
 ],
 "metadata": {
  "kernelspec": {
   "display_name": "Python 3",
   "language": "python",
   "name": "python3"
  },
  "language_info": {
   "codemirror_mode": {
    "name": "ipython",
    "version": 3
   },
   "file_extension": ".py",
   "mimetype": "text/x-python",
   "name": "python",
   "nbconvert_exporter": "python",
   "pygments_lexer": "ipython3",
   "version": "3.6.5"
  }
 },
 "nbformat": 4,
 "nbformat_minor": 2
}
