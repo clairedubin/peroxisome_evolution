{
 "cells": [
  {
   "cell_type": "code",
   "execution_count": null,
   "metadata": {},
   "outputs": [],
   "source": [
    "#imports\n",
    "import random\n",
    "import pandas as pd\n",
    "import numpy as np\n",
    "import ast\n",
    "import seaborn as sns\n",
    "import matplotlib.pyplot as plt"
   ]
  },
  {
   "cell_type": "code",
   "execution_count": null,
   "metadata": {},
   "outputs": [],
   "source": [
    "random.seed(22)"
   ]
  },
  {
   "cell_type": "code",
   "execution_count": null,
   "metadata": {},
   "outputs": [],
   "source": [
    "#data source: https://www.ncbi.nlm.nih.gov/geo/query/acc.cgi?acc=GSE38875\n",
    "# Schraiber JG, Mostovoy Y, Hsu TY, Brem RB. Inferring evolutionary histories of pathway regulation \n",
    "# from transcriptional profiling data. PLoS Comput Biol 2013;9(10):e1003255. PMID: 24130471\n",
    "\n",
    "\n",
    "parents = pd.read_csv('/Users/clairedubin/spur/publishable_data/external_datasets/schraiber_homozygote_exp.csv', header=0).transpose()\n",
    "parents.columns = parents.iloc[0]\n",
    "parents = parents.iloc[1:]\n",
    "parents = parents.apply(pd.to_numeric, errors='coerce')\n",
    "\n",
    "\n",
    "hybrid = pd.read_csv('/Users/clairedubin/spur/publishable_data/external_datasets/schraiber_hybrid_exp.csv').transpose()\n",
    "hybrid.columns = hybrid.iloc[0]\n",
    "hybrid = hybrid.iloc[1:]\n",
    "hybrid = hybrid.apply(pd.to_numeric, errors='coerce')"
   ]
  },
  {
   "cell_type": "code",
   "execution_count": null,
   "metadata": {},
   "outputs": [],
   "source": [
    "#merge parents and hybrid\n",
    "\n",
    "merged = parents.merge(hybrid,left_index=True, right_index=True,  suffixes=['_parent', '_hybrid'])\n",
    "merged.head()"
   ]
  },
  {
   "cell_type": "code",
   "execution_count": null,
   "metadata": {},
   "outputs": [],
   "source": [
    "#remove any genes not tested in dxy (genes not mapped to GO terms, etc)\n",
    "dxy_genes = pd.read_csv('/Users/clairedubin/spur/peroxisomes/dxy/raw_data/dxy_EuropeanSpar_WineScer_110619.txt')['gene']\n",
    "\n",
    "parents = parents[parents.index.isin(dxy_genes)]\n",
    "hybrid = hybrid[hybrid.index.isin(dxy_genes)]\n",
    "merged = merged[merged.index.isin(dxy_genes)]"
   ]
  },
  {
   "cell_type": "code",
   "execution_count": null,
   "metadata": {},
   "outputs": [],
   "source": [
    "#load go term data as go_terms, remove 3 broad go terms\n",
    "#source: http://geneontology.org/docs/download-go-annotations/\n",
    "\n",
    "go_terms = pd.read_csv('/Users/clairedubin/spur/publishable_data/external_datasets/go_terms.csv', header=None)\n",
    "go_terms = go_terms.drop(columns=[0, 1,3,5,6,7,8,11,12,13,14,15])\n",
    "go_terms = go_terms.rename(columns={2: 'sgd_name', 4:'go_term', 9:'gene_desc', 10:'gene'})\n",
    "go_terms['gene'] = [i[0] for i in go_terms['gene'].str.split('|')]\n",
    "go_terms = go_terms.drop_duplicates()\n",
    "go_terms = go_terms[~go_terms['go_term'].isin(['GO:0005575', 'GO:0008150', 'GO:0003674'])]\n",
    "go_terms = go_terms.set_index('gene')\n",
    "go_terms.head()"
   ]
  },
  {
   "cell_type": "code",
   "execution_count": null,
   "metadata": {},
   "outputs": [],
   "source": [
    "#load list of essential genes as essential_genes\n",
    "#source: http://www-sequence.stanford.edu/group/yeast_deletion_project/Essential_ORFs.txt\n",
    "\n",
    "essential = pd.read_csv('/Users/clairedubin/spur/publishable_data/external_datasets/essential.csv', header=None)\n",
    "essential[1] = essential[1].str.strip('\\t')\n",
    "essential_genes = essential[1].str.strip(' ').tolist()"
   ]
  },
  {
   "cell_type": "code",
   "execution_count": null,
   "metadata": {},
   "outputs": [],
   "source": [
    "#split expression data into essential and non essential genes\n",
    "\n",
    "essential_parents = parents[parents.index.isin(essential_genes)]\n",
    "non_essential_parents = parents[~parents.index.isin(essential_genes)]\n",
    "\n",
    "essential_hybrid = hybrid[hybrid.index.isin(essential_genes)]\n",
    "non_essential_hybrid = hybrid[~hybrid.index.isin(essential_genes)]\n",
    "\n",
    "essential_merged = merged[merged.index.isin(essential_genes)]\n",
    "non_essential_merged = merged[~merged.index.isin(essential_genes)]"
   ]
  },
  {
   "cell_type": "code",
   "execution_count": null,
   "metadata": {},
   "outputs": [],
   "source": [
    "#merge GO term and expression data\n",
    "\n",
    "merged_parents = go_terms.merge(parents, left_index=True, right_index=True)\n",
    "merged_hybrid = go_terms.merge(hybrid, left_index=True, right_index=True)\n",
    "merged = go_terms.merge(merged, left_index=True, right_index=True)"
   ]
  },
  {
   "cell_type": "code",
   "execution_count": null,
   "metadata": {},
   "outputs": [],
   "source": [
    "#group by GO term\n",
    "go_term_groups_merged = merged.groupby('go_term').count()\n",
    "\n",
    "medians_merged = merged.groupby('go_term').median().add_suffix('_median')\n",
    "medians_merged_abs = merged.set_index('go_term').drop(columns=['sgd_name', 'gene_desc']).groupby('go_term').median().abs().add_suffix('_abs_median')\n",
    "medians_merged_abs_mean = merged.set_index('go_term').drop(columns=['sgd_name', 'gene_desc']).groupby('go_term').mean().abs().add_suffix('_abs_mean')\n",
    "\n",
    "\n",
    "medians_merged = medians_merged.merge(medians_merged_abs, right_index=True, left_index=True\n",
    "                                    )\n",
    "\n",
    "medians_merged = medians_merged.merge(medians_merged_abs_mean, right_index=True, left_index=True\n",
    "                                    )\n",
    "\n",
    "medians_merged.head()"
   ]
  },
  {
   "cell_type": "code",
   "execution_count": null,
   "metadata": {},
   "outputs": [],
   "source": [
    "medians_merged[medians_merged.index == 'GO:0005778']"
   ]
  },
  {
   "cell_type": "code",
   "execution_count": null,
   "metadata": {},
   "outputs": [],
   "source": [
    "go5778 = ['YPL112C',\n",
    " 'YHR150W',\n",
    " 'YPR165W',\n",
    " 'YGR028W',\n",
    " 'YNL214W',\n",
    " 'YPR128C',\n",
    " 'YML075C',\n",
    " 'YGR004W',\n",
    " 'YGR239C',\n",
    " 'YLR324W',\n",
    " 'YGL153W',\n",
    " 'YHR160C',\n",
    " 'YMR163C',\n",
    " 'YDR265W',\n",
    " 'YLR450W',\n",
    " 'YDR244W',\n",
    " 'YMR026C',\n",
    " 'YKL188C',\n",
    " 'YDR329C',\n",
    " 'YLR191W',\n",
    " 'YDR479C',\n",
    " 'YOL147C',\n",
    " 'YOR193W',\n",
    " 'YBR168W',\n",
    " 'YPL147W',\n",
    " 'YBR222C',\n",
    " 'YNL329C',\n",
    " 'YDL065C',\n",
    " 'YOL044W',\n",
    " 'YAL055W',\n",
    "'YJL210W',\n",
    "'YKL197C',\n",
    "'YMR018W']"
   ]
  },
  {
   "cell_type": "code",
   "execution_count": null,
   "metadata": {},
   "outputs": [],
   "source": [
    "#resample function\n",
    "\n",
    "def resample_abs_median(go_term):\n",
    "\n",
    "    loc = medians_merged[medians_merged.index == go_term] #i don't know why I need to call it like this but I do\n",
    "    gene_list = go5778\n",
    "    essential_count = len(essential_merged[essential_merged.index.isin(go5778)].index)\n",
    "    non_essential_count = len(go5778) - essential_count\n",
    "    \n",
    "\n",
    "    parent_spar_median, parent_smik_median, parent_sbay_median = loc['S_paradoxus_parent_abs_median'], loc['S_mikatae_parent_abs_median'], loc['S_bayanus_parent_abs_median']\n",
    "    hybrid_spar_median, hybrid_smik_median, hybrid_sbay_median = loc['S_paradoxus_hybrid_abs_median'], loc['S_mikatae_hybrid_abs_median'], loc['S_bayanus_hybrid_abs_median']\n",
    "\n",
    "\n",
    "    print(parent_spar_median, hybrid_spar_median)\n",
    "    \n",
    "    parent_spar_count, parent_smik_count, parent_sbay_count = 0,0,0\n",
    "    hybrid_spar_count, hybrid_smik_count, hybrid_sbay_count = 0,0,0\n",
    "    \n",
    "    for i in range(10000):\n",
    "\n",
    "        sample = essential_merged.sample(n=essential_count,replace=True)\n",
    "        sample = sample.append(non_essential_merged.sample(n=non_essential_count,replace=True))\n",
    "\n",
    "        sample_parent_spar_median, sample_parent_smik_median, sample_parent_sbay_median = np.abs(sample['S_paradoxus_parent'].median()), np.abs(sample['S_mikatae_parent'].median()), np.abs(sample['S_bayanus_parent'].median())\n",
    "        sample_hybrid_spar_median, sample_hybrid_smik_median, sample_hybrid_sbay_median = np.abs(sample['S_paradoxus_hybrid'].median()), np.abs(sample['S_mikatae_hybrid'].median()), np.abs(sample['S_bayanus_hybrid'].median())\n",
    "\n",
    "        if sample_parent_spar_median >= parent_spar_median:\n",
    "            parent_spar_count += 1\n",
    "            \n",
    "        if sample_parent_smik_median >= parent_smik_median:\n",
    "            parent_smik_count += 1\n",
    "        \n",
    "        if sample_parent_sbay_median >= parent_sbay_median:\n",
    "            parent_sbay_count += 1            \n",
    "        \n",
    "        if sample_hybrid_spar_median >= hybrid_spar_median:\n",
    "            hybrid_spar_count += 1\n",
    "            \n",
    "        if sample_hybrid_smik_median >= hybrid_smik_median:\n",
    "            hybrid_smik_count += 1\n",
    "        \n",
    "        if sample_hybrid_sbay_median >= hybrid_sbay_median:\n",
    "            hybrid_sbay_count += 1              \n",
    "\n",
    "\n",
    "    print(go_term, parent_spar_count/10000, parent_smik_count/10000, parent_sbay_count/10000,\n",
    "         hybrid_spar_count/10000, hybrid_smik_count/10000, hybrid_sbay_count/10000,)\n",
    "    return [parent_spar_count/10000, parent_smik_count/10000, parent_sbay_count/10000,\n",
    "         hybrid_spar_count/10000, hybrid_smik_count/10000, hybrid_sbay_count/10000,]"
   ]
  },
  {
   "cell_type": "code",
   "execution_count": null,
   "metadata": {},
   "outputs": [],
   "source": [
    "resample_abs_median('GO:0005778')"
   ]
  },
  {
   "cell_type": "code",
   "execution_count": null,
   "metadata": {},
   "outputs": [],
   "source": [
    "def flip_ratio(x):\n",
    "    return np.log2(1/(2**x))\n",
    "\n",
    "go5778_gene_list = ast.literal_eval(go_term_groups_75_merged.loc['GO:0005778']['tested_gene_list'])\n",
    "\n",
    "go5778_exp = merged[merged.index.isin(go5778_gene_list)][['S_paradoxus_parent', \n",
    "                                                          'S_mikatae_parent',\n",
    "                                                          'S_bayanus_parent',\n",
    "                                                          'S_paradoxus_hybrid', \n",
    "                                                          'S_mikatae_hybrid',\n",
    "                                                          'S_bayanus_hybrid',\n",
    "                                                          ]]\n",
    "go5778_exp['Scer:Spar_parent'] = go5778_exp['S_paradoxus_parent'].apply(flip_ratio)\n",
    "go5778_exp['Scer:Smik_parent'] = go5778_exp['S_mikatae_parent'].apply(flip_ratio)\n",
    "go5778_exp['Scer:Suva_parent'] = go5778_exp['S_bayanus_parent'].apply(flip_ratio)\n",
    "\n",
    "go5778_exp['Scer:Spar_hybrid'] = go5778_exp['S_paradoxus_hybrid'].apply(flip_ratio)\n",
    "go5778_exp['Scer:Smik_hybrid'] = go5778_exp['S_mikatae_hybrid'].apply(flip_ratio)\n",
    "go5778_exp['Scer:Suva_hybrid'] = go5778_exp['S_bayanus_hybrid'].apply(flip_ratio)\n",
    "\n",
    "\n",
    "go5778_exp.head()"
   ]
  },
  {
   "cell_type": "code",
   "execution_count": null,
   "metadata": {},
   "outputs": [],
   "source": [
    "#change gene labels to PEX names\n",
    "\n",
    "go_terms = pd.read_csv('/Users/clairedubin/spur/publishable_data/external_datasets/go_terms.csv', header=None)\n",
    "go_terms = go_terms.drop(columns=[0, 1,3,4,5,6,7,8,11,12,13,14,15])\n",
    "go_terms = go_terms.rename(columns={2: 'sgd_name', 9:'gene_desc', 10:'gene'})\n",
    "go_terms['gene'] = [i[0] for i in go_terms['gene'].str.split('|')]\n",
    "go_terms = go_terms.drop_duplicates()\n",
    "go_terms = go_terms.set_index('gene')\n",
    "\n",
    "go5778_exp = go_terms.merge(go5778_exp, right_index=True, left_index=True).set_index('sgd_name')\n",
    "go5778_exp = go5778_exp.drop_duplicates()\n",
    "go5778_exp.head()"
   ]
  },
  {
   "cell_type": "code",
   "execution_count": null,
   "metadata": {},
   "outputs": [],
   "source": [
    "#make heat map for parents, all species\n",
    "\n",
    "plt.figure(figsize=(20, 6))\n",
    "\n",
    "fig, ax = plt.subplots(1, 1, figsize = (15, 7))\n",
    "\n",
    "go5778_exp['means'] = go5778_exp[['Scer:Spar_parent', 'Scer:Spar_hybrid', \n",
    "                        'Scer:Smik_parent', 'Scer:Smik_hybrid', \n",
    "                        'Scer:Suva_parent', 'Scer:Suva_hybrid'\n",
    "                       ]].mean(axis=1)\n",
    "\n",
    "go5778_exp[['Scer:Spar_parent', 'Scer:Spar_hybrid', \n",
    "                        'Scer:Smik_parent', 'Scer:Smik_hybrid', \n",
    "                        'Scer:Suva_parent', 'Scer:Suva_hybrid'\n",
    "                       ]]\n",
    "go5778_exp = go5778_exp.sort_values('means', ascending=False)\n",
    "\n",
    "# go5778_exp = go5778_exp.sort_values('Scer:Spar_hybrid', ascending=False)\n",
    "\n",
    "\n",
    "sns.heatmap(go5778_exp[['Scer:Spar_hybrid','Scer:Spar_parent',  \n",
    "                        'Scer:Smik_hybrid','Scer:Smik_parent',  \n",
    "                        'Scer:Suva_hybrid','Scer:Suva_parent', \n",
    "                       ]], center=0,\n",
    "            cmap=\"RdBu_r\", xticklabels=[r'$\\dfrac{S. cerevisiae}{S. paradoxus}$ cis', \n",
    "                                        r'$\\dfrac{S. cerevisiae}{S. paradoxus}$ total',\n",
    "                                        r'$\\dfrac{S. cerevisiae}{S. mikatae}$ cis',\n",
    "                                        r'$\\dfrac{S. cerevisiae}{S. mikatae}$ total',\n",
    "                                        r'$\\dfrac{S. cerevisiae}{S. uvarum}$ cis',\n",
    "                                        r'$\\dfrac{S. cerevisiae}{S. uvarum}$ total'])\n",
    "\n",
    "\n",
    "ax.set_xlabel('')\n",
    "ax.set_ylabel('')\n",
    "ax.tick_params(axis=\"x\", labelsize=11)\n",
    "\n",
    "fig.savefig('/Users/clairedubin/spur/publishable_data/figures/all_sp_heatmap.eps', format='eps')"
   ]
  },
  {
   "cell_type": "code",
   "execution_count": null,
   "metadata": {},
   "outputs": [],
   "source": [
    "#scer:spar heat map, parent and hybrid\n",
    "\n",
    "#means\n",
    "go5778_exp = go5778_exp.sort_values('Scer:Spar_hybrid', ascending=False)\n",
    "\n",
    "fig, ax = plt.subplots(1, 1, figsize = (6, 9))\n",
    "\n",
    "# plt.figure(figsize=(10, 9))\n",
    "pal=sns.color_palette(\"RdBu_r\", 1000)\n",
    "# plt.title('Log2 Fold Change in Expression (GO:0005778)')\n",
    "sns.heatmap(go5778_exp[['Scer:Spar_hybrid', 'Scer:Spar_parent']], center=0,\n",
    "            cmap=pal, cbar=True, robust=True, xticklabels=['cis', 'total'],ax=ax),\n",
    "ax.set_ylabel('')    \n",
    "ax.set_xlabel('')\n",
    "ax.tick_params(axis=\"x\", labelsize=13)\n",
    "\n",
    "\n",
    "fig.savefig('/Users/clairedubin/spur/publishable_data/figures/sc_sp_heatmap.eps', format='eps' )"
   ]
  },
  {
   "cell_type": "code",
   "execution_count": null,
   "metadata": {},
   "outputs": [],
   "source": [
    "fig, ax = plt.subplots(1, 1, figsize = (7, 4))\n",
    "\n",
    "sns.distplot(go5778_exp['Scer:Spar_hybrid'], hist=False, label='cis')\n",
    "sns.distplot(go5778_exp['Scer:Spar_parent'], hist=False, label='total')\n",
    "ax.set_xlabel('Log${_2}$ Fold Change Fold Change in Expression (S. cerevisiae : S. paradoxus)')\n",
    "ax.set_ylabel('Frequency')\n",
    "ax.legend()\n"
   ]
  },
  {
   "cell_type": "code",
   "execution_count": null,
   "metadata": {},
   "outputs": [],
   "source": [
    "fig, ax = plt.subplots(1, 1, figsize = (7, 4))\n",
    "\n",
    "sns.distplot(go5778_exp['Scer:Spar_hybrid'].abs(), hist=False, label='cis')\n",
    "sns.distplot(go5778_exp['Scer:Spar_parent'].abs(), hist=False, label='total')\n",
    "ax.set_xlabel('Log${_2}$ Fold Change Fold Change in Expression (S. cerevisiae : S. paradoxus)')\n",
    "ax.set_ylabel('Frequency')\n",
    "ax.legend()"
   ]
  },
  {
   "cell_type": "code",
   "execution_count": null,
   "metadata": {},
   "outputs": [],
   "source": [
    "fig, ax = plt.subplots(1, 1, figsize = (7, 4))\n",
    "\n",
    "sns.distplot(go5778_exp['Scer:Spar_hybrid'], hist=False, label='cis')\n",
    "sns.distplot(go5778_exp['Scer:Spar_parent'], hist=False, label='total')\n",
    "ax.set_xlabel('Log${_2}$ Fold Change Fold Change in Expression (S. cerevisiae : S. paradoxus)')\n",
    "ax.set_ylabel('Frequency')\n",
    "ax.legend()\n"
   ]
  },
  {
   "cell_type": "code",
   "execution_count": null,
   "metadata": {},
   "outputs": [],
   "source": [
    "fig, ax = plt.subplots(1, 1, figsize = (7, 4))\n",
    "\n",
    "sns.distplot(hybrid['S_paradoxus'])\n",
    "ax.set_xlim(-3,3)"
   ]
  },
  {
   "cell_type": "code",
   "execution_count": null,
   "metadata": {},
   "outputs": [],
   "source": [
    "hybrid['S_mikatae'].median()"
   ]
  },
  {
   "cell_type": "code",
   "execution_count": null,
   "metadata": {},
   "outputs": [],
   "source": [
    "hybrid['S_bayanus'].median()"
   ]
  }
 ],
 "metadata": {
  "kernelspec": {
   "display_name": "Python 3",
   "language": "python",
   "name": "python3"
  },
  "language_info": {
   "codemirror_mode": {
    "name": "ipython",
    "version": 3
   },
   "file_extension": ".py",
   "mimetype": "text/x-python",
   "name": "python",
   "nbconvert_exporter": "python",
   "pygments_lexer": "ipython3",
   "version": "3.6.5"
  }
 },
 "nbformat": 4,
 "nbformat_minor": 2
}
