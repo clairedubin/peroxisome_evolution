{
 "cells": [
  {
   "cell_type": "code",
   "execution_count": null,
   "metadata": {},
   "outputs": [],
   "source": [
    "import pandas as pd\n",
    "import os\n",
    "import numpy as np\n",
    "import re\n",
    "import dendropy"
   ]
  },
  {
   "cell_type": "code",
   "execution_count": null,
   "metadata": {},
   "outputs": [],
   "source": [
    "output_dir = '/Users/clairedubin/spur/peroxisomes/PAML_output/paml_output_031620/'"
   ]
  },
  {
   "cell_type": "code",
   "execution_count": null,
   "metadata": {},
   "outputs": [],
   "source": [
    "df = pd.DataFrame()\n",
    "\n",
    "for _, file in enumerate(os.listdir(output_dir)):\n",
    "    \n",
    "    \n",
    "#     print(_, file)\n",
    "    \n",
    "    #find line with branch lengths\n",
    "    \n",
    "    lengths = {}\n",
    "    \n",
    "    f = open(output_dir+file, 'r')\n",
    "    \n",
    "    tree_next = False\n",
    "    \n",
    "    for line in f.readlines():\n",
    "                \n",
    "        if 'tree length = ' in line:\n",
    "            \n",
    "            tree_length = float(line.split('=')[1].strip(' ').strip('\\n'))\n",
    "            \n",
    "            lengths['tree_length'] = tree_length\n",
    "            \n",
    "            tree_next = True\n",
    "            \n",
    "        elif tree_next:\n",
    "            \n",
    "            if re.match(r'^\\(+[a-zA-Z]+', line):\n",
    "                \n",
    "                tree = dendropy.Tree.get(\n",
    "                data=line,\n",
    "                schema='newick',\n",
    "                )\n",
    "                \n",
    "                tn = [str(i) for i in tree.taxon_namespace]\n",
    "                \n",
    "                dist = tree.calc_node_root_distances(return_leaf_distances_only=True)\n",
    "                \n",
    "                #drop genes with data for less than 7 strains\n",
    "                \n",
    "\n",
    "                if len(dist) >= 7:\n",
    "                \n",
    "                    #section below is redundant with the node iteration further below\n",
    "#                     for i, sp in enumerate(tree.taxon_namespace):\n",
    "\n",
    "#                         start = '_root'\n",
    "\n",
    "#                         sp = str(sp).replace(' ', '_').replace(\"'\", '') + '_root'\n",
    "\n",
    "#                         lengths[sp] = [dist[i]]\n",
    "\n",
    "\n",
    "                    sacc = [sp for sp in tree.taxon_namespace  if \"Saccharomyces\" in str(sp)]\n",
    "\n",
    "\n",
    "                    edge_iter = tree.preorder_edge_iter()\n",
    "\n",
    "                    for i in tree.preorder_node_iter():\n",
    "\n",
    "                            edge = next(edge_iter)\n",
    "\n",
    "                            node_label = '_'.join(sorted([str(a.taxon).replace(' ', '_').replace(\"'\", '') for a in i.leaf_nodes()]))                    \n",
    "\n",
    "                            edge_label = 'branch_to_' + node_label\n",
    "\n",
    "                            #get length of subtree formed by this node\n",
    "\n",
    "                            temp = tree.extract_tree_with_taxa([a.taxon for a in i.leaf_nodes()])\n",
    "                            \n",
    "                            lengths['subtree_'+node_label] = [temp.length()]\n",
    "\n",
    "                            #length of edge leading to subtree, will be 0 for root\n",
    "\n",
    "                            lengths[edge_label] = [edge.length]\n",
    "\n",
    "                    temp_df = pd.DataFrame.from_dict(lengths)\n",
    "                    temp_df.index=[file]\n",
    "                    df = df.append(temp_df) \n",
    "                    \n",
    "                else:\n",
    "                    \n",
    "                    print(dist)\n",
    "\n",
    "                break"
   ]
  },
  {
   "cell_type": "code",
   "execution_count": null,
   "metadata": {},
   "outputs": [],
   "source": [
    "#drop columns with more than 80% NaN\n",
    "\n",
    "df = df.dropna(axis=1, thresh=df.shape[0]*.8)\n",
    "\n",
    "df.head()"
   ]
  },
  {
   "cell_type": "code",
   "execution_count": null,
   "metadata": {
    "scrolled": true
   },
   "outputs": [],
   "source": [
    "#normalize to tree length\n",
    "\n",
    "for col in df.columns:\n",
    "    \n",
    "    if col != 'tree_length':\n",
    "        df[col] = df[col]/df['tree_length']\n",
    "        \n",
    "df    "
   ]
  },
  {
   "cell_type": "code",
   "execution_count": null,
   "metadata": {},
   "outputs": [],
   "source": [
    "go5778 = ['YPL112C',\n",
    " 'YHR150W',\n",
    " 'YPR165W',\n",
    " 'YGR028W',\n",
    " 'YNL214W',\n",
    " 'YPR128C',\n",
    " 'YML075C',\n",
    " 'YGR004W',\n",
    " 'YGR239C',\n",
    " 'YLR324W',\n",
    " 'YGL153W',\n",
    " 'YHR160C',\n",
    " 'YMR163C',\n",
    " 'YDR265W',\n",
    " 'YLR450W',\n",
    " 'YDR244W',\n",
    " 'YMR026C',\n",
    " 'YKL188C',\n",
    " 'YDR329C',\n",
    " 'YLR191W',\n",
    " 'YDR479C',\n",
    " 'YOL147C',\n",
    " 'YOR193W',\n",
    " 'YBR168W',\n",
    " 'YPL147W',\n",
    " 'YBR222C',\n",
    " 'YNL329C',\n",
    " 'YDL065C',\n",
    " 'YOL044W',\n",
    " 'YAL055W',\n",
    "'YJL210W',\n",
    "'YKL197C',\n",
    "'YMR018W']"
   ]
  },
  {
   "cell_type": "code",
   "execution_count": null,
   "metadata": {},
   "outputs": [],
   "source": [
    "#change index from file name to gene name\n",
    "\n",
    "df.index = df.reset_index()['index'].str.split('_', expand=True)[0]"
   ]
  },
  {
   "cell_type": "code",
   "execution_count": null,
   "metadata": {},
   "outputs": [],
   "source": [
    "go5778_df = df[df.index.isin(go5778)]\n",
    "\n",
    "go5778_df"
   ]
  },
  {
   "cell_type": "code",
   "execution_count": null,
   "metadata": {},
   "outputs": [],
   "source": [
    "essential = pd.read_csv('/Users/clairedubin/spur/publishable_data/external_datasets/essential.csv', header=None)\n",
    "essential[1] = essential[1].str.strip('\\t')\n",
    "essential_genes = essential[1].str.strip(' ').tolist()"
   ]
  },
  {
   "cell_type": "code",
   "execution_count": null,
   "metadata": {},
   "outputs": [],
   "source": [
    "def resample(df1, df2, cols='all', n=10000):\n",
    "    \n",
    "    results_dict = {}\n",
    "    \n",
    "    \n",
    "    if cols != 'all':\n",
    "\n",
    "        df1 = df1[cols]\n",
    "        df2 = df2[cols]\n",
    "\n",
    "    actual_meds = df1.median(axis=0)\n",
    "    \n",
    "    essential_count = len([i for i in df1.index if i in essential_genes])\n",
    "    nonessential_count = len(df1.index) - essential_count\n",
    "    \n",
    "    print('essential count: ', essential_count)\n",
    "    print('nonessential_count: ', nonessential_count)\n",
    "    \n",
    "    essential_df = df2[df2.index.isin(essential_genes)]\n",
    "    nonessential_df =  df2[~df2.index.isin(essential_genes)]\n",
    "        \n",
    "    for i in range(len(df1.columns)):\n",
    "        results_dict[i] = 0\n",
    "\n",
    "    for _ in range(n):\n",
    "        \n",
    "#         if _ % 100 == 0:\n",
    "        \n",
    "#             print(_)\n",
    "\n",
    "        sample = essential_df.sample(n=essential_count)\n",
    "        sample = sample.append(nonessential_df.sample(n=nonessential_count))\n",
    "\n",
    "        sample_meds = sample.median(axis=0)\n",
    "\n",
    "        for i, val in enumerate(actual_meds):\n",
    "\n",
    "            if sample_meds[i] >= val:\n",
    "\n",
    "                results_dict[i] += 1\n",
    "\n",
    "    results = {}\n",
    "\n",
    "    for i in results_dict:\n",
    "\n",
    "        results[df1.columns[i]] = results_dict[i]/n\n",
    "\n",
    "    return results        \n",
    "    \n",
    "\n",
    "        "
   ]
  },
  {
   "cell_type": "code",
   "execution_count": null,
   "metadata": {},
   "outputs": [],
   "source": [
    "np.random.seed(222)\n",
    "\n",
    "results = resample(go5778_df, df)"
   ]
  },
  {
   "cell_type": "code",
   "execution_count": null,
   "metadata": {
    "scrolled": true
   },
   "outputs": [],
   "source": [
    "r = pd.DataFrame.from_dict(results, orient='index').rename(columns={0:'p'})\n",
    "r"
   ]
  },
  {
   "cell_type": "code",
   "execution_count": null,
   "metadata": {
    "scrolled": true
   },
   "outputs": [],
   "source": [
    "#significant values\n",
    "r[r['p'] < 0.06]"
   ]
  }
 ],
 "metadata": {
  "kernelspec": {
   "display_name": "Python 3",
   "language": "python",
   "name": "python3"
  },
  "language_info": {
   "codemirror_mode": {
    "name": "ipython",
    "version": 3
   },
   "file_extension": ".py",
   "mimetype": "text/x-python",
   "name": "python",
   "nbconvert_exporter": "python",
   "pygments_lexer": "ipython3",
   "version": "3.6.5"
  }
 },
 "nbformat": 4,
 "nbformat_minor": 2
}
