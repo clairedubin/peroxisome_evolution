{
 "cells": [
  {
   "cell_type": "code",
   "execution_count": null,
   "metadata": {},
   "outputs": [],
   "source": [
    "#make custom tree for each gene to run through CodeML/PAML, based on strains we have data for"
   ]
  },
  {
   "cell_type": "code",
   "execution_count": 1,
   "metadata": {},
   "outputs": [],
   "source": [
    "import dendropy\n",
    "from dendropy import Tree, TaxonNamespace\n",
    "import pyfasta\n",
    "from pyfasta import Fasta\n",
    "import re\n",
    "import os\n",
    "from os import path\n",
    "import shutil"
   ]
  },
  {
   "cell_type": "code",
   "execution_count": 20,
   "metadata": {},
   "outputs": [
    {
     "name": "stdout",
     "output_type": "stream",
     "text": [
      "155 4782\n"
     ]
    }
   ],
   "source": [
    "#remove any alignments that don't start with ATG\n",
    "\n",
    "alignment_dir = '/Users/clairedubin/spur/small_ortho_aligned_031420/'\n",
    "\n",
    "count = 0\n",
    "total = 0\n",
    "\n",
    "bad = []\n",
    "\n",
    "for file in os.listdir(alignment_dir):    \n",
    "    \n",
    "    if file[-2:] == 'fa':\n",
    "\n",
    "        total += 1\n",
    "\n",
    "        f=Fasta(alignment_dir+file)\n",
    "\n",
    "        sample = list(f.keys())[0]\n",
    "\n",
    "        if len(f[sample][:]) % 3 != 0:\n",
    "\n",
    "            \n",
    "            for key in f.keys():\n",
    "                \n",
    "                for codon in range(0, len(sample), 3):\n",
    "                    \n",
    "                    if '-' not in f[key][codon:codon+3]:\n",
    "                        \n",
    "                        if f[key][codon:codon+3] != 'ATG':\n",
    "                            \n",
    "\n",
    "                            \n",
    "                            bad += [file]\n",
    "\n",
    "                            \n",
    "                        break\n",
    "                                                  \n",
    "        \n",
    "print(len(set(bad)), total)\n",
    "\n",
    "for file in bad:\n",
    "    if os.path.exists(alignment_dir+file):\n",
    "        os.remove(alignment_dir+file)\n",
    "    "
   ]
  },
  {
   "cell_type": "code",
   "execution_count": 39,
   "metadata": {},
   "outputs": [
    {
     "name": "stdout",
     "output_type": "stream",
     "text": [
      "3498 4627\n"
     ]
    }
   ],
   "source": [
    "#use files with at least 10 strains\n",
    "\n",
    "good_files = []\n",
    "\n",
    "count = 0\n",
    "total = 0\n",
    "for file in os.listdir(alignment_dir):\n",
    "    \n",
    "    if file[-2:] == 'fa':\n",
    "        total +=1\n",
    "        f = Fasta(alignment_dir+file)\n",
    "\n",
    "        if len(f.keys()) >= 10:\n",
    "\n",
    "            count+=1 \n",
    "            \n",
    "            good_files += [file]\n",
    "\n",
    "print(count, total)"
   ]
  },
  {
   "cell_type": "code",
   "execution_count": 40,
   "metadata": {},
   "outputs": [],
   "source": [
    "#make all files have sequence length % 3 = 0 (PAML won't run otherwise)\n",
    "\n",
    "for file in good_files:\n",
    "        \n",
    "    if file[-2:] == 'fa':\n",
    "\n",
    "        f=Fasta(alignment_dir+file)\n",
    "\n",
    "        sample = list(f.keys())[0]\n",
    "\n",
    "        i = len(f[sample][:]) % 3\n",
    "\n",
    "        if i != 0:\n",
    "            \n",
    "            to_write = ''\n",
    "\n",
    "            for key in f.keys():\n",
    "                \n",
    "                to_write += '>' + key + '\\n' + f[key][:-i] + '\\n'\n",
    "\n",
    "            p = open('/Users/clairedubin/spur/temp/'+file, 'w')\n",
    "            p.write(to_write)\n",
    "            p.close()\n",
    "            \n",
    "for file in os.listdir('/Users/clairedubin/spur/temp/'):\n",
    "\n",
    "    shutil.copy('/Users/clairedubin/spur/temp/'+file, alignment_dir + file)"
   ]
  },
  {
   "cell_type": "code",
   "execution_count": 2,
   "metadata": {},
   "outputs": [],
   "source": [
    "def make_tree(file, master_path, output_path):\n",
    "    \n",
    "    gene = file.split('.')[0]\n",
    "    \n",
    "    f = Fasta(file)\n",
    "    \n",
    "    keys_to_keep = [f.replace('_', ' ') for f in list(f.keys())]\n",
    "        \n",
    "    master = Tree.get(file=open(master_path, 'r'),\n",
    "                schema=\"newick\",\n",
    "                tree_offset=0)\n",
    "        \n",
    "    master.retain_taxa_with_labels(keys_to_keep)\n",
    "    \n",
    "    master_string = master.as_string(schema='newick')\n",
    "    \n",
    "    master_string = re.sub(r'\\:[\\d.]+', '', master_string)\n",
    "        \n",
    "    species_count = len(master_string.split(','))\n",
    "                     \n",
    "    master_string = str(species_count) + ' 1\\n' + master_string\n",
    "    \n",
    "    newfile = open(output_path, 'w')\n",
    "    \n",
    "    newfile.write(master_string)\n",
    "    \n",
    "    newfile.close()\n",
    "    \n",
    "    return master_string\n"
   ]
  },
  {
   "cell_type": "code",
   "execution_count": 34,
   "metadata": {},
   "outputs": [],
   "source": [
    "def make_tree_promoters(file, master_path, output_path):\n",
    "    \n",
    "    gene = file.split('.')[0]\n",
    "    \n",
    "    f = Fasta(file)\n",
    "    \n",
    "    keys_to_keep = [f.split('_', 1)[1].capitalize().replace('_', ' ') for f in list(f.keys())]\n",
    "        \n",
    "    master = Tree.get(file=open(master_path, 'r'),\n",
    "                schema=\"newick\",\n",
    "                tree_offset=0)\n",
    "        \n",
    "    master.retain_taxa_with_labels(keys_to_keep)\n",
    "    \n",
    "    master_string = master.as_string(schema='newick')\n",
    "    \n",
    "    master_string = re.sub(r'\\:[\\d.]+', '', master_string)\n",
    "        \n",
    "    species_count = len(master_string.split(','))\n",
    "                     \n",
    "    master_string = str(species_count) + ' 1\\n' + master_string\n",
    "    \n",
    "    newfile = open(output_path, 'w')\n",
    "    \n",
    "    newfile.write(master_string)\n",
    "    \n",
    "    newfile.close()\n",
    "    \n",
    "    return master_string"
   ]
  },
  {
   "cell_type": "code",
   "execution_count": 35,
   "metadata": {
    "code_folding": []
   },
   "outputs": [],
   "source": [
    "go5778 = ['YPL112C',\n",
    " 'YHR150W',\n",
    " 'YPR165W',\n",
    " 'YGR028W',\n",
    " 'YNL214W',\n",
    " 'YPR128C',\n",
    " 'YML075C',\n",
    " 'YGR004W',\n",
    " 'YGR239C',\n",
    " 'YLR324W',\n",
    " 'YGL153W',\n",
    " 'YHR160C',\n",
    " 'YMR163C',\n",
    " 'YDR265W',\n",
    " 'YLR450W',\n",
    " 'YDR244W',\n",
    " 'YMR026C',\n",
    " 'YKL188C',\n",
    " 'YDR329C',\n",
    " 'YLR191W',\n",
    " 'YDR479C',\n",
    " 'YOL147C',\n",
    " 'YOR193W',\n",
    " 'YBR168W',\n",
    " 'YPL147W',\n",
    " 'YBR222C',\n",
    " 'YNL329C',\n",
    " 'YDL065C',\n",
    " 'YOL044W',\n",
    " 'YAL055W',\n",
    "'YJL210W',\n",
    "'YKL197C',\n",
    "'YMR018W']"
   ]
  },
  {
   "cell_type": "code",
   "execution_count": 36,
   "metadata": {},
   "outputs": [
    {
     "data": {
      "text/plain": [
       "33"
      ]
     },
     "execution_count": 36,
     "metadata": {},
     "output_type": "execute_result"
    }
   ],
   "source": [
    "len(go5778)"
   ]
  },
  {
   "cell_type": "code",
   "execution_count": 37,
   "metadata": {},
   "outputs": [],
   "source": [
    "#make one tree per gene (promoters)\n",
    "\n",
    "master_path = \"/Users/clairedubin/Downloads/pruned_sacc_tree.txt\"\n",
    "\n",
    "alignment_dir = '/Users/clairedubin/spur/peroxisomes/PAML_for_reviewers_031820/sacc_larger_phylogeny/promoters_aligned/'\n",
    "\n",
    "for file in os.listdir(alignment_dir):\n",
    "    \n",
    "    output_path = '/Users/clairedubin/spur/peroxisomes/PAML_for_reviewers_031820/sacc_larger_phylogeny/promoter_trees/' + file.split('.')[0] + '.tree'\n",
    "    \n",
    "    make_tree_promoters(alignment_dir+file, master_path, output_path)"
   ]
  },
  {
   "cell_type": "code",
   "execution_count": 45,
   "metadata": {},
   "outputs": [],
   "source": [
    "#make one tree per gene (coding regions)\n",
    "\n",
    "master_path = \"/Users/clairedubin/Downloads/pruned_sacc_tree.txt\"\n",
    "\n",
    "for file in good_files:\n",
    "    \n",
    "    output_path = '/Users/clairedubin/spur/genome_trees_031620/' + file.split('.')[0] + '.tree'\n",
    "    \n",
    "    make_tree(alignment_dir+file, master_path, output_path)"
   ]
  }
 ],
 "metadata": {
  "kernelspec": {
   "display_name": "Python 3",
   "language": "python",
   "name": "python3"
  },
  "language_info": {
   "codemirror_mode": {
    "name": "ipython",
    "version": 3
   },
   "file_extension": ".py",
   "mimetype": "text/x-python",
   "name": "python",
   "nbconvert_exporter": "python",
   "pygments_lexer": "ipython3",
   "version": "3.6.5"
  }
 },
 "nbformat": 4,
 "nbformat_minor": 2
}
