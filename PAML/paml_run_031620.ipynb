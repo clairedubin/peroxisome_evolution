{
 "cells": [
  {
   "cell_type": "code",
   "execution_count": null,
   "metadata": {},
   "outputs": [],
   "source": [
    "import os\n",
    "import sys\n",
    "import subprocess as sp\n",
    "from os import path\n",
    "import pyfasta\n",
    "from pyfasta import Fasta\n",
    "import dendropy\n",
    "from dendropy import Tree, TaxonNamespace"
   ]
  },
  {
   "cell_type": "code",
   "execution_count": null,
   "metadata": {},
   "outputs": [],
   "source": [
    "def run_codeml():\n",
    "    \n",
    "    cmd = ['/Users/clairedubin/Downloads/paml4.8/bin/codeml', 'temp_ctl_file.ctl.txt']\n",
    "\n",
    "    sp.call(cmd)"
   ]
  },
  {
   "cell_type": "code",
   "execution_count": null,
   "metadata": {},
   "outputs": [],
   "source": [
    "def make_temp_seq_file(tree_file):\n",
    "    \n",
    "    to_write=''\n",
    "    \n",
    "    print(tree_file)\n",
    "    \n",
    "    gene = tree_file.split('.')[0].split('/')[-1]\n",
    "    \n",
    "    f = Fasta('/Users/clairedubin/spur/peroxisomes/PAML_for_reviewers_031820/sacc_larger_phylogeny/more_sacc_sp_MUSCLE_aligned_031620/' + gene + '.muscle_afa')\n",
    "    \n",
    "    t = open(tree_file, 'r')\n",
    "    tree_string = t.readlines()[1]\n",
    "\n",
    "\n",
    "    for key in f.keys():\n",
    "\n",
    "        if key in tree_string:\n",
    "\n",
    "            to_write += '>' + key + '\\n' + f[key][:] + '\\n'\n",
    "\n",
    "\n",
    "    tempfile = open('/Users/clairedubin/spur/temp_seq.fa', 'w')\n",
    "\n",
    "    tempfile.write(to_write)\n",
    "\n",
    "    tempfile.close()"
   ]
  },
  {
   "cell_type": "code",
   "execution_count": null,
   "metadata": {
    "code_folding": []
   },
   "outputs": [],
   "source": [
    "def write_ctl_file(tree_file, seq_file, output_file):\n",
    "\n",
    "    template_ctl_file = open('/Users/clairedubin/spur/peroxisomes/PAML_for_reviewers_031820/codeml_ctl_file.txt')\n",
    "\n",
    "    wf = open('temp_ctl_file.ctl.txt','w')\n",
    "\n",
    "    for line in template_ctl_file:\n",
    "        \n",
    "        if \"seqfile\" in line:\n",
    "            wf.writelines(\"\\tseqfile = \" + seq_file + \"\\n\")\n",
    "        elif \"treefile\" in line:\n",
    "            wf.writelines(\"\\ttreefile = \"+tree_file+'\\n')\n",
    "        elif \"outfile\" in line:\n",
    "            wf.writelines(\"\\toutfile = \"+output_file+'\\n')\n",
    "        else:\n",
    "            wf.writelines(line)\n",
    "            \n",
    "    "
   ]
  },
  {
   "cell_type": "code",
   "execution_count": null,
   "metadata": {},
   "outputs": [],
   "source": [
    "for file in os.listdir('/Users/clairedubin/spur/peroxisomes/PAML_for_reviewers_031820/genome_trees_031620')[100:105]:\n",
    "    \n",
    "    print(file)\n",
    "    \n",
    "    tree_path = '/Users/clairedubin/spur/peroxisomes/PAML_for_reviewers_031820/genome_trees_031620/' + file\n",
    "    \n",
    "    output_path = '/Users/clairedubin/spur/peroxisomes/PAML_for_reviewers_031820/paml_output_032220/' + file.split('.')[0] + '_codeml_out.txt'\n",
    "\n",
    "    seq_path = '/Users/clairedubin/spur/peroxisomes/PAML_for_reviewers_031820/sacc_larger_phylogeny/more_sacc_sp_MUSCLE_aligned_031620/' + file.split('.')[0] + '.muscle_afa'\n",
    "    \n",
    "    if not os.path.exists(output_path):\n",
    "\n",
    "        write_ctl_file(tree_path, seq_path, output_path)\n",
    "\n",
    "        run_codeml()\n"
   ]
  },
  {
   "cell_type": "code",
   "execution_count": null,
   "metadata": {},
   "outputs": [],
   "source": [
    "for file in os.listdir('/Users/clairedubin/spur/peroxisomes/PAML/scer_spar_smik_prank_codon_aligned/'):\n",
    "    \n",
    "    print(file)\n",
    "    \n",
    "    tree_path = '/Users/clairedubin/spur/temp_tree.txt'\n",
    "    \n",
    "    output_path = '/Users/clairedubin/spur/paml_ouput_prank_rooted/' + file.split('.')[0] + '_codeml_out.txt'\n",
    "\n",
    "    seq_path = '/Users/clairedubin/spur/peroxisomes/PAML/scer_spar_smik_prank_codon_aligned/' + file.split('.')[0] + '.best.phy'\n",
    "    \n",
    "#     if not os.path.exists(output_path):\n",
    "\n",
    "    write_ctl_file(tree_path, seq_path, output_path)\n",
    "\n",
    "    run_codeml()"
   ]
  }
 ],
 "metadata": {
  "kernelspec": {
   "display_name": "Python 3",
   "language": "python",
   "name": "python3"
  },
  "language_info": {
   "codemirror_mode": {
    "name": "ipython",
    "version": 3
   },
   "file_extension": ".py",
   "mimetype": "text/x-python",
   "name": "python",
   "nbconvert_exporter": "python",
   "pygments_lexer": "ipython3",
   "version": "3.6.5"
  }
 },
 "nbformat": 4,
 "nbformat_minor": 2
}
